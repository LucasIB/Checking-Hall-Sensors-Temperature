{
 "cells": [
  {
   "cell_type": "markdown",
   "metadata": {},
   "source": [
    "## Checking temperatures on Hall Sensors and electronic systems"
   ]
  },
  {
   "cell_type": "code",
   "execution_count": 1,
   "metadata": {},
   "outputs": [],
   "source": [
    "import numpy as np\n",
    "import pandas as pd\n",
    "import matplotlib.pyplot as plt\n",
    "import matplotlib.style as style\n",
    "#from sympy import init_printing\n",
    "%matplotlib inline\n",
    "#init_printing()"
   ]
  },
  {
   "cell_type": "code",
   "execution_count": 2,
   "metadata": {},
   "outputs": [],
   "source": [
    "# Modifying the plot style\n",
    "style.use('seaborn')"
   ]
  },
  {
   "cell_type": "markdown",
   "metadata": {},
   "source": [
    "### Stage-05 - SENSOR 135-14 : Long-term test (17h) - Water flow: 3L/min - nominal temp. air conditioning: 24°C "
   ]
  },
  {
   "cell_type": "code",
   "execution_count": 3,
   "metadata": {},
   "outputs": [],
   "source": [
    "#Data file\n",
    "_raw_data = pd.read_csv('long_temp_test.txt', sep='\\t', header=0)"
   ]
  },
  {
   "cell_type": "code",
   "execution_count": 4,
   "metadata": {},
   "outputs": [
    {
     "data": {
      "text/html": [
       "<div>\n",
       "<style scoped>\n",
       "    .dataframe tbody tr th:only-of-type {\n",
       "        vertical-align: middle;\n",
       "    }\n",
       "\n",
       "    .dataframe tbody tr th {\n",
       "        vertical-align: top;\n",
       "    }\n",
       "\n",
       "    .dataframe thead th {\n",
       "        text-align: right;\n",
       "    }\n",
       "</style>\n",
       "<table border=\"1\" class=\"dataframe\">\n",
       "  <thead>\n",
       "    <tr style=\"text-align: right;\">\n",
       "      <th></th>\n",
       "      <th>Unnamed: 0</th>\n",
       "      <th>Date</th>\n",
       "      <th>Time</th>\n",
       "      <th>101</th>\n",
       "      <th>102</th>\n",
       "      <th>103</th>\n",
       "      <th>105</th>\n",
       "      <th>201</th>\n",
       "      <th>202</th>\n",
       "      <th>203</th>\n",
       "      <th>204</th>\n",
       "      <th>205</th>\n",
       "      <th>206</th>\n",
       "      <th>207</th>\n",
       "      <th>208</th>\n",
       "      <th>209</th>\n",
       "    </tr>\n",
       "  </thead>\n",
       "  <tbody>\n",
       "    <tr>\n",
       "      <th>0</th>\n",
       "      <td>0</td>\n",
       "      <td>05/02/2019</td>\n",
       "      <td>15:31:04</td>\n",
       "      <td>0.4062</td>\n",
       "      <td>0.4202</td>\n",
       "      <td>0.4006</td>\n",
       "      <td>0.4908</td>\n",
       "      <td>22.001</td>\n",
       "      <td>21.246</td>\n",
       "      <td>23.468</td>\n",
       "      <td>23.313</td>\n",
       "      <td>23.607</td>\n",
       "      <td>23.388</td>\n",
       "      <td>23.355</td>\n",
       "      <td>23.576</td>\n",
       "      <td>23.177</td>\n",
       "    </tr>\n",
       "    <tr>\n",
       "      <th>1</th>\n",
       "      <td>1</td>\n",
       "      <td>05/02/2019</td>\n",
       "      <td>15:31:07</td>\n",
       "      <td>0.4061</td>\n",
       "      <td>0.4203</td>\n",
       "      <td>0.4007</td>\n",
       "      <td>0.4907</td>\n",
       "      <td>22.020</td>\n",
       "      <td>21.280</td>\n",
       "      <td>23.470</td>\n",
       "      <td>23.309</td>\n",
       "      <td>23.606</td>\n",
       "      <td>23.390</td>\n",
       "      <td>23.353</td>\n",
       "      <td>23.575</td>\n",
       "      <td>23.175</td>\n",
       "    </tr>\n",
       "    <tr>\n",
       "      <th>2</th>\n",
       "      <td>2</td>\n",
       "      <td>05/02/2019</td>\n",
       "      <td>15:31:10</td>\n",
       "      <td>0.4060</td>\n",
       "      <td>0.4204</td>\n",
       "      <td>0.4008</td>\n",
       "      <td>0.4906</td>\n",
       "      <td>22.041</td>\n",
       "      <td>21.315</td>\n",
       "      <td>23.466</td>\n",
       "      <td>23.310</td>\n",
       "      <td>23.605</td>\n",
       "      <td>23.386</td>\n",
       "      <td>23.351</td>\n",
       "      <td>23.577</td>\n",
       "      <td>23.169</td>\n",
       "    </tr>\n",
       "    <tr>\n",
       "      <th>3</th>\n",
       "      <td>3</td>\n",
       "      <td>05/02/2019</td>\n",
       "      <td>15:31:13</td>\n",
       "      <td>0.4063</td>\n",
       "      <td>0.4204</td>\n",
       "      <td>0.4005</td>\n",
       "      <td>0.4906</td>\n",
       "      <td>22.065</td>\n",
       "      <td>21.344</td>\n",
       "      <td>23.470</td>\n",
       "      <td>23.308</td>\n",
       "      <td>23.606</td>\n",
       "      <td>23.389</td>\n",
       "      <td>23.349</td>\n",
       "      <td>23.574</td>\n",
       "      <td>23.169</td>\n",
       "    </tr>\n",
       "    <tr>\n",
       "      <th>4</th>\n",
       "      <td>4</td>\n",
       "      <td>05/02/2019</td>\n",
       "      <td>15:31:16</td>\n",
       "      <td>0.4061</td>\n",
       "      <td>0.4206</td>\n",
       "      <td>0.4008</td>\n",
       "      <td>0.4906</td>\n",
       "      <td>22.085</td>\n",
       "      <td>21.376</td>\n",
       "      <td>23.465</td>\n",
       "      <td>23.310</td>\n",
       "      <td>23.606</td>\n",
       "      <td>23.387</td>\n",
       "      <td>23.347</td>\n",
       "      <td>23.571</td>\n",
       "      <td>23.168</td>\n",
       "    </tr>\n",
       "  </tbody>\n",
       "</table>\n",
       "</div>"
      ],
      "text/plain": [
       "   Unnamed: 0        Date      Time     101     102     103     105     201  \\\n",
       "0           0  05/02/2019  15:31:04  0.4062  0.4202  0.4006  0.4908  22.001   \n",
       "1           1  05/02/2019  15:31:07  0.4061  0.4203  0.4007  0.4907  22.020   \n",
       "2           2  05/02/2019  15:31:10  0.4060  0.4204  0.4008  0.4906  22.041   \n",
       "3           3  05/02/2019  15:31:13  0.4063  0.4204  0.4005  0.4906  22.065   \n",
       "4           4  05/02/2019  15:31:16  0.4061  0.4206  0.4008  0.4906  22.085   \n",
       "\n",
       "      202     203     204     205     206     207     208     209  \n",
       "0  21.246  23.468  23.313  23.607  23.388  23.355  23.576  23.177  \n",
       "1  21.280  23.470  23.309  23.606  23.390  23.353  23.575  23.175  \n",
       "2  21.315  23.466  23.310  23.605  23.386  23.351  23.577  23.169  \n",
       "3  21.344  23.470  23.308  23.606  23.389  23.349  23.574  23.169  \n",
       "4  21.376  23.465  23.310  23.606  23.387  23.347  23.571  23.168  "
      ]
     },
     "execution_count": 4,
     "metadata": {},
     "output_type": "execute_result"
    }
   ],
   "source": [
    "_raw_data.head()"
   ]
  },
  {
   "cell_type": "code",
   "execution_count": 5,
   "metadata": {
    "scrolled": true
   },
   "outputs": [
    {
     "data": {
      "text/html": [
       "<div>\n",
       "<style scoped>\n",
       "    .dataframe tbody tr th:only-of-type {\n",
       "        vertical-align: middle;\n",
       "    }\n",
       "\n",
       "    .dataframe tbody tr th {\n",
       "        vertical-align: top;\n",
       "    }\n",
       "\n",
       "    .dataframe thead th {\n",
       "        text-align: right;\n",
       "    }\n",
       "</style>\n",
       "<table border=\"1\" class=\"dataframe\">\n",
       "  <thead>\n",
       "    <tr style=\"text-align: right;\">\n",
       "      <th></th>\n",
       "      <th>Unnamed: 0</th>\n",
       "      <th>101</th>\n",
       "      <th>102</th>\n",
       "      <th>103</th>\n",
       "      <th>105</th>\n",
       "      <th>201</th>\n",
       "      <th>202</th>\n",
       "      <th>203</th>\n",
       "      <th>204</th>\n",
       "      <th>205</th>\n",
       "      <th>206</th>\n",
       "      <th>207</th>\n",
       "      <th>208</th>\n",
       "      <th>209</th>\n",
       "    </tr>\n",
       "  </thead>\n",
       "  <tbody>\n",
       "    <tr>\n",
       "      <th>count</th>\n",
       "      <td>4451.000000</td>\n",
       "      <td>4451.00000</td>\n",
       "      <td>4451.000000</td>\n",
       "      <td>4451.000000</td>\n",
       "      <td>4451.000000</td>\n",
       "      <td>4451.000000</td>\n",
       "      <td>4451.000000</td>\n",
       "      <td>4451.000000</td>\n",
       "      <td>4451.000000</td>\n",
       "      <td>4451.000000</td>\n",
       "      <td>4451.000000</td>\n",
       "      <td>4451.000000</td>\n",
       "      <td>4451.000000</td>\n",
       "      <td>4451.000000</td>\n",
       "    </tr>\n",
       "    <tr>\n",
       "      <th>mean</th>\n",
       "      <td>2225.000000</td>\n",
       "      <td>0.40023</td>\n",
       "      <td>0.414139</td>\n",
       "      <td>0.394110</td>\n",
       "      <td>0.486713</td>\n",
       "      <td>22.352364</td>\n",
       "      <td>21.598149</td>\n",
       "      <td>22.800782</td>\n",
       "      <td>22.481458</td>\n",
       "      <td>22.892851</td>\n",
       "      <td>22.605702</td>\n",
       "      <td>22.583802</td>\n",
       "      <td>23.376319</td>\n",
       "      <td>22.465987</td>\n",
       "    </tr>\n",
       "    <tr>\n",
       "      <th>std</th>\n",
       "      <td>1285.037354</td>\n",
       "      <td>0.00272</td>\n",
       "      <td>0.002854</td>\n",
       "      <td>0.003034</td>\n",
       "      <td>0.002005</td>\n",
       "      <td>0.343904</td>\n",
       "      <td>0.553019</td>\n",
       "      <td>0.356746</td>\n",
       "      <td>0.405678</td>\n",
       "      <td>0.432449</td>\n",
       "      <td>0.386745</td>\n",
       "      <td>0.390530</td>\n",
       "      <td>0.112494</td>\n",
       "      <td>0.353037</td>\n",
       "    </tr>\n",
       "    <tr>\n",
       "      <th>min</th>\n",
       "      <td>0.000000</td>\n",
       "      <td>0.39480</td>\n",
       "      <td>0.408700</td>\n",
       "      <td>0.388800</td>\n",
       "      <td>0.478600</td>\n",
       "      <td>21.369000</td>\n",
       "      <td>20.017000</td>\n",
       "      <td>22.397000</td>\n",
       "      <td>22.087000</td>\n",
       "      <td>22.456000</td>\n",
       "      <td>22.215000</td>\n",
       "      <td>22.183000</td>\n",
       "      <td>22.942000</td>\n",
       "      <td>22.096000</td>\n",
       "    </tr>\n",
       "    <tr>\n",
       "      <th>25%</th>\n",
       "      <td>1112.500000</td>\n",
       "      <td>0.39830</td>\n",
       "      <td>0.412100</td>\n",
       "      <td>0.391800</td>\n",
       "      <td>0.485900</td>\n",
       "      <td>22.179000</td>\n",
       "      <td>21.396000</td>\n",
       "      <td>22.480000</td>\n",
       "      <td>22.133000</td>\n",
       "      <td>22.501000</td>\n",
       "      <td>22.265000</td>\n",
       "      <td>22.243000</td>\n",
       "      <td>23.324000</td>\n",
       "      <td>22.159000</td>\n",
       "    </tr>\n",
       "    <tr>\n",
       "      <th>50%</th>\n",
       "      <td>2225.000000</td>\n",
       "      <td>0.39940</td>\n",
       "      <td>0.413200</td>\n",
       "      <td>0.392900</td>\n",
       "      <td>0.487000</td>\n",
       "      <td>22.422000</td>\n",
       "      <td>21.755000</td>\n",
       "      <td>22.614000</td>\n",
       "      <td>22.216000</td>\n",
       "      <td>22.653000</td>\n",
       "      <td>22.384000</td>\n",
       "      <td>22.346000</td>\n",
       "      <td>23.400000</td>\n",
       "      <td>22.248000</td>\n",
       "    </tr>\n",
       "    <tr>\n",
       "      <th>75%</th>\n",
       "      <td>3337.500000</td>\n",
       "      <td>0.40240</td>\n",
       "      <td>0.416500</td>\n",
       "      <td>0.396700</td>\n",
       "      <td>0.487600</td>\n",
       "      <td>22.625000</td>\n",
       "      <td>22.008000</td>\n",
       "      <td>23.159000</td>\n",
       "      <td>22.874000</td>\n",
       "      <td>23.349500</td>\n",
       "      <td>22.974500</td>\n",
       "      <td>22.963000</td>\n",
       "      <td>23.443000</td>\n",
       "      <td>22.817500</td>\n",
       "    </tr>\n",
       "    <tr>\n",
       "      <th>max</th>\n",
       "      <td>4450.000000</td>\n",
       "      <td>0.40760</td>\n",
       "      <td>0.421700</td>\n",
       "      <td>0.402100</td>\n",
       "      <td>0.494700</td>\n",
       "      <td>22.898000</td>\n",
       "      <td>22.322000</td>\n",
       "      <td>23.470000</td>\n",
       "      <td>23.313000</td>\n",
       "      <td>23.638000</td>\n",
       "      <td>23.390000</td>\n",
       "      <td>23.355000</td>\n",
       "      <td>23.607000</td>\n",
       "      <td>23.177000</td>\n",
       "    </tr>\n",
       "  </tbody>\n",
       "</table>\n",
       "</div>"
      ],
      "text/plain": [
       "        Unnamed: 0         101          102          103          105  \\\n",
       "count  4451.000000  4451.00000  4451.000000  4451.000000  4451.000000   \n",
       "mean   2225.000000     0.40023     0.414139     0.394110     0.486713   \n",
       "std    1285.037354     0.00272     0.002854     0.003034     0.002005   \n",
       "min       0.000000     0.39480     0.408700     0.388800     0.478600   \n",
       "25%    1112.500000     0.39830     0.412100     0.391800     0.485900   \n",
       "50%    2225.000000     0.39940     0.413200     0.392900     0.487000   \n",
       "75%    3337.500000     0.40240     0.416500     0.396700     0.487600   \n",
       "max    4450.000000     0.40760     0.421700     0.402100     0.494700   \n",
       "\n",
       "               201          202          203          204          205  \\\n",
       "count  4451.000000  4451.000000  4451.000000  4451.000000  4451.000000   \n",
       "mean     22.352364    21.598149    22.800782    22.481458    22.892851   \n",
       "std       0.343904     0.553019     0.356746     0.405678     0.432449   \n",
       "min      21.369000    20.017000    22.397000    22.087000    22.456000   \n",
       "25%      22.179000    21.396000    22.480000    22.133000    22.501000   \n",
       "50%      22.422000    21.755000    22.614000    22.216000    22.653000   \n",
       "75%      22.625000    22.008000    23.159000    22.874000    23.349500   \n",
       "max      22.898000    22.322000    23.470000    23.313000    23.638000   \n",
       "\n",
       "               206          207          208          209  \n",
       "count  4451.000000  4451.000000  4451.000000  4451.000000  \n",
       "mean     22.605702    22.583802    23.376319    22.465987  \n",
       "std       0.386745     0.390530     0.112494     0.353037  \n",
       "min      22.215000    22.183000    22.942000    22.096000  \n",
       "25%      22.265000    22.243000    23.324000    22.159000  \n",
       "50%      22.384000    22.346000    23.400000    22.248000  \n",
       "75%      22.974500    22.963000    23.443000    22.817500  \n",
       "max      23.390000    23.355000    23.607000    23.177000  "
      ]
     },
     "execution_count": 5,
     "metadata": {},
     "output_type": "execute_result"
    }
   ],
   "source": [
    "_raw_data.describe()"
   ]
  },
  {
   "cell_type": "code",
   "execution_count": 6,
   "metadata": {},
   "outputs": [
    {
     "data": {
      "text/plain": [
       "0    0.4062\n",
       "1    0.4061\n",
       "2    0.4060\n",
       "3    0.4063\n",
       "4    0.4061\n",
       "5    0.4063\n",
       "6    0.4063\n",
       "7    0.4063\n",
       "8    0.4063\n",
       "9    0.4063\n",
       "Name: 101, dtype: float64"
      ]
     },
     "execution_count": 6,
     "metadata": {},
     "output_type": "execute_result"
    }
   ],
   "source": [
    "_raw_data['101'][:10]"
   ]
  },
  {
   "cell_type": "code",
   "execution_count": 7,
   "metadata": {},
   "outputs": [
    {
     "data": {
      "text/plain": [
       "Text(0.5, 1.0, 'Electronic box 135-14')"
      ]
     },
     "execution_count": 7,
     "metadata": {},
     "output_type": "execute_result"
    },
    {
     "data": {
      "image/png": "[encoded data removed]",
      "text/plain": [
       "<Figure size 576x396 with 1 Axes>"
      ]
     },
     "metadata": {},
     "output_type": "display_data"
    }
   ],
   "source": [
    "#Plotting files\n",
    "ax = _raw_data.plot(x='Time', y='105', style='-')\n",
    "ax.set_xlabel('# Measure')\n",
    "ax.set_ylabel('Volts (V)')\n",
    "ax.set_title('Electronic box 135-14')"
   ]
  },
  {
   "cell_type": "code",
   "execution_count": 8,
   "metadata": {},
   "outputs": [
    {
     "data": {
      "text/plain": [
       "Text(0, 0.5, 'Volts (V)')"
      ]
     },
     "execution_count": 8,
     "metadata": {},
     "output_type": "execute_result"
    },
    {
     "data": {
      "image/png": "[encoded data removed]",
      "text/plain": [
       "<Figure size 576x396 with 1 Axes>"
      ]
     },
     "metadata": {},
     "output_type": "display_data"
    }
   ],
   "source": [
    "#Sensors and Electronics Temperature\n",
    "ax = _raw_data.plot(x='Time', y='101', style='-')\n",
    "_raw_data.plot(ax=ax, x='Time', y='102', style='-' )\n",
    "_raw_data.plot(ax=ax, x='Time', y='103', style='-' )\n",
    "_raw_data.plot(ax=ax, x='Time', y='105', style='-' )\n",
    "ax.set_xlabel('# Measure')\n",
    "ax.set_ylabel('Volts (V)')"
   ]
  },
  {
   "cell_type": "code",
   "execution_count": 9,
   "metadata": {},
   "outputs": [],
   "source": [
    "#Sensors temperature parameters\n",
    "_dict_sensors = {'101': [0.05, 0.09, 0.03],\n",
    "                 '102': [0.05, 0.09, 0.03],\n",
    "                 '103': [0.02, 0.05, 0.03],\n",
    "                 '105': [0.03, 0.03, 0]}\n",
    "\n",
    "def general_convert(number, sensor, data):\n",
    "    '''Returns volts to temperature conversion'''\n",
    "    number = str(number)\n",
    "    _converte = pd.Series()\n",
    "    if sensor == 135:\n",
    "        if number in _dict_sensors:\n",
    "            _converte = (abs(data[number]-_dict_sensors[number][0])/0.02)\n",
    "            return _converte\n",
    "        else:\n",
    "            return False\n",
    "    elif sensor == 133:\n",
    "        if number in _dict_sensors:\n",
    "            _converte = (abs(data[number]-_dict_sensors[number][1])/0.02)\n",
    "            return _converte\n",
    "        else:\n",
    "            return False\n",
    "    elif sensor == 134:\n",
    "        if number in _dict_sensors:\n",
    "            _converte = (abs(data[number]-_dict_sensors[number][1])/0.02)\n",
    "            return _converte\n",
    "        else:\n",
    "            return False\n",
    "    else:\n",
    "        return False"
   ]
  },
  {
   "cell_type": "code",
   "execution_count": 10,
   "metadata": {},
   "outputs": [
    {
     "data": {
      "text/plain": [
       "0    23.040\n",
       "1    23.035\n",
       "2    23.030\n",
       "3    23.030\n",
       "4    23.030\n",
       "Name: 105, dtype: float64"
      ]
     },
     "execution_count": 10,
     "metadata": {},
     "output_type": "execute_result"
    }
   ],
   "source": [
    "general_convert(105, 135,_raw_data).head()"
   ]
  },
  {
   "cell_type": "code",
   "execution_count": 11,
   "metadata": {},
   "outputs": [],
   "source": [
    "_temp_X = general_convert(101, 135,_raw_data)\n",
    "_temp_Y = general_convert(102, 135,_raw_data)\n",
    "_temp_Z = general_convert(103, 135,_raw_data)\n",
    "_temp_box = general_convert(105, 135,_raw_data)"
   ]
  },
  {
   "cell_type": "code",
   "execution_count": 12,
   "metadata": {},
   "outputs": [
    {
     "data": {
      "text/plain": [
       "Text(0.5, 1.0, 'Temperature Electronic box 135-14')"
      ]
     },
     "execution_count": 12,
     "metadata": {},
     "output_type": "execute_result"
    },
    {
     "data": {
      "image/png": "[encoded data removed]",
      "text/plain": [
       "<Figure size 576x396 with 1 Axes>"
      ]
     },
     "metadata": {},
     "output_type": "display_data"
    }
   ],
   "source": [
    "ax1 = _temp_box.plot(x=_temp_X.index, style='-')\n",
    "ax1.set_xlabel('# Measure')\n",
    "ax1.set_ylabel('Temperature')\n",
    "ax1.set_title('Temperature Electronic Bastidor 135-14')"
   ]
  },
  {
   "cell_type": "code",
   "execution_count": 13,
   "metadata": {},
   "outputs": [],
   "source": [
    "#Mean value of X,Y,Z sensors combined\n",
    "def avg_values(x, y, z):\n",
    "    '''Returns average values of the sensors X, Y, Z'''\n",
    "    _avg_values = pd.Series()\n",
    "    _avg_values = ((x + y + z)/3)\n",
    "    return _avg_values"
   ]
  },
  {
   "cell_type": "code",
   "execution_count": 14,
   "metadata": {
    "scrolled": true
   },
   "outputs": [
    {
     "data": {
      "text/plain": [
       "0    18.450000\n",
       "1    18.451667\n",
       "2    18.453333\n",
       "3    18.453333\n",
       "4    18.458333\n",
       "dtype: float64"
      ]
     },
     "execution_count": 14,
     "metadata": {},
     "output_type": "execute_result"
    }
   ],
   "source": [
    "avg_values(_temp_X, _temp_Y, _temp_Z).head()"
   ]
  },
  {
   "cell_type": "code",
   "execution_count": 15,
   "metadata": {
    "scrolled": true
   },
   "outputs": [],
   "source": [
    "_avg_sensors = avg_values(_temp_X, _temp_Y, _temp_Z)"
   ]
  },
  {
   "cell_type": "code",
   "execution_count": 16,
   "metadata": {},
   "outputs": [
    {
     "data": {
      "text/html": [
       "<div>\n",
       "<style scoped>\n",
       "    .dataframe tbody tr th:only-of-type {\n",
       "        vertical-align: middle;\n",
       "    }\n",
       "\n",
       "    .dataframe tbody tr th {\n",
       "        vertical-align: top;\n",
       "    }\n",
       "\n",
       "    .dataframe thead th {\n",
       "        text-align: right;\n",
       "    }\n",
       "</style>\n",
       "<table border=\"1\" class=\"dataframe\">\n",
       "  <thead>\n",
       "    <tr style=\"text-align: right;\">\n",
       "      <th></th>\n",
       "      <th>avg_temp_sensors</th>\n",
       "      <th>box_temp</th>\n",
       "      <th>Time</th>\n",
       "      <th>Date</th>\n",
       "    </tr>\n",
       "  </thead>\n",
       "  <tbody>\n",
       "    <tr>\n",
       "      <th>0</th>\n",
       "      <td>18.450000</td>\n",
       "      <td>23.040</td>\n",
       "      <td>15:31:04</td>\n",
       "      <td>05/02/2019</td>\n",
       "    </tr>\n",
       "    <tr>\n",
       "      <th>1</th>\n",
       "      <td>18.451667</td>\n",
       "      <td>23.035</td>\n",
       "      <td>15:31:07</td>\n",
       "      <td>05/02/2019</td>\n",
       "    </tr>\n",
       "    <tr>\n",
       "      <th>2</th>\n",
       "      <td>18.453333</td>\n",
       "      <td>23.030</td>\n",
       "      <td>15:31:10</td>\n",
       "      <td>05/02/2019</td>\n",
       "    </tr>\n",
       "    <tr>\n",
       "      <th>3</th>\n",
       "      <td>18.453333</td>\n",
       "      <td>23.030</td>\n",
       "      <td>15:31:13</td>\n",
       "      <td>05/02/2019</td>\n",
       "    </tr>\n",
       "    <tr>\n",
       "      <th>4</th>\n",
       "      <td>18.458333</td>\n",
       "      <td>23.030</td>\n",
       "      <td>15:31:16</td>\n",
       "      <td>05/02/2019</td>\n",
       "    </tr>\n",
       "  </tbody>\n",
       "</table>\n",
       "</div>"
      ],
      "text/plain": [
       "   avg_temp_sensors  box_temp      Time        Date\n",
       "0         18.450000    23.040  15:31:04  05/02/2019\n",
       "1         18.451667    23.035  15:31:07  05/02/2019\n",
       "2         18.453333    23.030  15:31:10  05/02/2019\n",
       "3         18.453333    23.030  15:31:13  05/02/2019\n",
       "4         18.458333    23.030  15:31:16  05/02/2019"
      ]
     },
     "execution_count": 16,
     "metadata": {},
     "output_type": "execute_result"
    }
   ],
   "source": [
    "#Compare mean temperature values of sensors and box\n",
    "list_of_series = [_avg_sensors, _temp_box]\n",
    "_df_compare = pd.concat(list_of_series, axis=1)\n",
    "_df_compare.columns = ['avg_temp_sensors', 'box_temp']\n",
    "\n",
    "#Add time and date in _df_compare\n",
    "_df_compare['Time'] = pd.Series(_raw_data['Time'], index=_df_compare.index)\n",
    "_df_compare['Date'] = pd.Series(_raw_data['Date'], index=_df_compare.index)\n",
    "_df_compare.head()"
   ]
  },
  {
   "cell_type": "code",
   "execution_count": 17,
   "metadata": {},
   "outputs": [
    {
     "data": {
      "text/plain": [
       "Text(0, 0.5, 'Temperature (°C)')"
      ]
     },
     "execution_count": 17,
     "metadata": {},
     "output_type": "execute_result"
    },
    {
     "data": {
      "image/png": "[encoded data removed]",
      "text/plain": [
       "<Figure size 576x396 with 1 Axes>"
      ]
     },
     "metadata": {},
     "output_type": "display_data"
    }
   ],
   "source": [
    "#Plotting\n",
    "ax = _df_compare.plot(y='avg_temp_sensors', style='-')\n",
    "_df_compare.plot(ax=ax, y='box_temp', style='-')\n",
    "ax.set_xlabel('# Measure')\n",
    "ax.set_ylabel('Temperature (°C)')"
   ]
  },
  {
   "cell_type": "code",
   "execution_count": 18,
   "metadata": {},
   "outputs": [
    {
     "data": {
      "text/html": [
       "<div>\n",
       "<style scoped>\n",
       "    .dataframe tbody tr th:only-of-type {\n",
       "        vertical-align: middle;\n",
       "    }\n",
       "\n",
       "    .dataframe tbody tr th {\n",
       "        vertical-align: top;\n",
       "    }\n",
       "\n",
       "    .dataframe thead th {\n",
       "        text-align: right;\n",
       "    }\n",
       "</style>\n",
       "<table border=\"1\" class=\"dataframe\">\n",
       "  <thead>\n",
       "    <tr style=\"text-align: right;\">\n",
       "      <th></th>\n",
       "      <th>avg_temp_sensors</th>\n",
       "      <th>box_temp</th>\n",
       "    </tr>\n",
       "  </thead>\n",
       "  <tbody>\n",
       "    <tr>\n",
       "      <th>count</th>\n",
       "      <td>4451.000000</td>\n",
       "      <td>4451.000000</td>\n",
       "    </tr>\n",
       "    <tr>\n",
       "      <th>mean</th>\n",
       "      <td>18.141307</td>\n",
       "      <td>22.835646</td>\n",
       "    </tr>\n",
       "    <tr>\n",
       "      <th>std</th>\n",
       "      <td>0.142694</td>\n",
       "      <td>0.100263</td>\n",
       "    </tr>\n",
       "    <tr>\n",
       "      <th>min</th>\n",
       "      <td>17.885000</td>\n",
       "      <td>22.430000</td>\n",
       "    </tr>\n",
       "    <tr>\n",
       "      <th>25%</th>\n",
       "      <td>18.036667</td>\n",
       "      <td>22.795000</td>\n",
       "    </tr>\n",
       "    <tr>\n",
       "      <th>50%</th>\n",
       "      <td>18.088333</td>\n",
       "      <td>22.850000</td>\n",
       "    </tr>\n",
       "    <tr>\n",
       "      <th>75%</th>\n",
       "      <td>18.260000</td>\n",
       "      <td>22.880000</td>\n",
       "    </tr>\n",
       "    <tr>\n",
       "      <th>max</th>\n",
       "      <td>18.523333</td>\n",
       "      <td>23.235000</td>\n",
       "    </tr>\n",
       "  </tbody>\n",
       "</table>\n",
       "</div>"
      ],
      "text/plain": [
       "       avg_temp_sensors     box_temp\n",
       "count       4451.000000  4451.000000\n",
       "mean          18.141307    22.835646\n",
       "std            0.142694     0.100263\n",
       "min           17.885000    22.430000\n",
       "25%           18.036667    22.795000\n",
       "50%           18.088333    22.850000\n",
       "75%           18.260000    22.880000\n",
       "max           18.523333    23.235000"
      ]
     },
     "execution_count": 18,
     "metadata": {},
     "output_type": "execute_result"
    }
   ],
   "source": [
    "_df_compare.describe()"
   ]
  },
  {
   "cell_type": "code",
   "execution_count": 19,
   "metadata": {},
   "outputs": [
    {
     "name": "stdout",
     "output_type": "stream",
     "text": [
      "4.694\n"
     ]
    }
   ],
   "source": [
    "#Difference between mean values\n",
    "_diff_mean = abs(_df_compare['avg_temp_sensors'].mean()-_df_compare['box_temp'].mean())\n",
    "print('%0.3f' % _diff_mean)"
   ]
  },
  {
   "cell_type": "code",
   "execution_count": 20,
   "metadata": {},
   "outputs": [
    {
     "name": "stdout",
     "output_type": "stream",
     "text": [
      "0.638\n"
     ]
    }
   ],
   "source": [
    "#Peak-valley difference sensors average values\n",
    "p_k_diff = _df_compare['avg_temp_sensors'].max()-_df_compare['avg_temp_sensors'].min()\n",
    "print('%0.3f' % p_k_diff)"
   ]
  },
  {
   "cell_type": "code",
   "execution_count": 21,
   "metadata": {},
   "outputs": [
    {
     "name": "stdout",
     "output_type": "stream",
     "text": [
      "0.805\n"
     ]
    }
   ],
   "source": [
    "#Peak-valley difference box temperature values\n",
    "p_k_box = _df_compare['box_temp'].max()-_df_compare['box_temp'].min()\n",
    "print('%0.3f' % p_k_box)"
   ]
  },
  {
   "cell_type": "code",
   "execution_count": 22,
   "metadata": {},
   "outputs": [
    {
     "name": "stdout",
     "output_type": "stream",
     "text": [
      "0.0175\n"
     ]
    }
   ],
   "source": [
    "#mean relative error for box temp\n",
    "_rel = (_df_compare['box_temp'].max()/_df_compare['box_temp'].mean())-1\n",
    "print('%0.4f' % _rel)"
   ]
  },
  {
   "cell_type": "code",
   "execution_count": 23,
   "metadata": {},
   "outputs": [
    {
     "data": {
      "text/html": [
       "<div>\n",
       "<style scoped>\n",
       "    .dataframe tbody tr th:only-of-type {\n",
       "        vertical-align: middle;\n",
       "    }\n",
       "\n",
       "    .dataframe tbody tr th {\n",
       "        vertical-align: top;\n",
       "    }\n",
       "\n",
       "    .dataframe thead th {\n",
       "        text-align: right;\n",
       "    }\n",
       "</style>\n",
       "<table border=\"1\" class=\"dataframe\">\n",
       "  <thead>\n",
       "    <tr style=\"text-align: right;\">\n",
       "      <th></th>\n",
       "      <th>avg_temp_sensors</th>\n",
       "      <th>box_temp</th>\n",
       "      <th>Time</th>\n",
       "      <th>Date</th>\n",
       "    </tr>\n",
       "  </thead>\n",
       "  <tbody>\n",
       "    <tr>\n",
       "      <th>3959</th>\n",
       "      <td>18.041667</td>\n",
       "      <td>23.235</td>\n",
       "      <td>05:55:26</td>\n",
       "      <td>06/02/2019</td>\n",
       "    </tr>\n",
       "  </tbody>\n",
       "</table>\n",
       "</div>"
      ],
      "text/plain": [
       "      avg_temp_sensors  box_temp      Time        Date\n",
       "3959         18.041667    23.235  05:55:26  06/02/2019"
      ]
     },
     "execution_count": 23,
     "metadata": {},
     "output_type": "execute_result"
    }
   ],
   "source": [
    "#Locate maximum temperature value in 'box_temp'\n",
    "_df_compare.loc[_df_compare['box_temp'] == 23.235000]"
   ]
  },
  {
   "cell_type": "code",
   "execution_count": 24,
   "metadata": {},
   "outputs": [
    {
     "data": {
      "text/plain": [
       "Unnamed: 0          3959\n",
       "Date          06/02/2019\n",
       "Time            05:55:26\n",
       "101               0.3986\n",
       "102               0.4123\n",
       "103               0.3916\n",
       "105               0.4947\n",
       "201               21.773\n",
       "202               21.319\n",
       "203               22.491\n",
       "204               22.126\n",
       "205               22.479\n",
       "206               22.274\n",
       "207               22.229\n",
       "208               23.291\n",
       "209               22.104\n",
       "Name: 3959, dtype: object"
      ]
     },
     "execution_count": 24,
     "metadata": {},
     "output_type": "execute_result"
    }
   ],
   "source": [
    "_raw_data.iloc[3959]"
   ]
  },
  {
   "cell_type": "code",
   "execution_count": 25,
   "metadata": {},
   "outputs": [
    {
     "data": {
      "text/html": [
       "<div>\n",
       "<style scoped>\n",
       "    .dataframe tbody tr th:only-of-type {\n",
       "        vertical-align: middle;\n",
       "    }\n",
       "\n",
       "    .dataframe tbody tr th {\n",
       "        vertical-align: top;\n",
       "    }\n",
       "\n",
       "    .dataframe thead th {\n",
       "        text-align: right;\n",
       "    }\n",
       "</style>\n",
       "<table border=\"1\" class=\"dataframe\">\n",
       "  <thead>\n",
       "    <tr style=\"text-align: right;\">\n",
       "      <th></th>\n",
       "      <th>avg_temp_sensors</th>\n",
       "      <th>box_temp</th>\n",
       "      <th>Time</th>\n",
       "      <th>Date</th>\n",
       "    </tr>\n",
       "  </thead>\n",
       "  <tbody>\n",
       "    <tr>\n",
       "      <th>4446</th>\n",
       "      <td>18.003333</td>\n",
       "      <td>22.800</td>\n",
       "      <td>08:37:53</td>\n",
       "      <td>06/02/2019</td>\n",
       "    </tr>\n",
       "    <tr>\n",
       "      <th>4447</th>\n",
       "      <td>18.013333</td>\n",
       "      <td>22.840</td>\n",
       "      <td>08:38:12</td>\n",
       "      <td>06/02/2019</td>\n",
       "    </tr>\n",
       "    <tr>\n",
       "      <th>4448</th>\n",
       "      <td>18.015000</td>\n",
       "      <td>22.850</td>\n",
       "      <td>08:38:32</td>\n",
       "      <td>06/02/2019</td>\n",
       "    </tr>\n",
       "    <tr>\n",
       "      <th>4449</th>\n",
       "      <td>18.020000</td>\n",
       "      <td>22.810</td>\n",
       "      <td>08:38:53</td>\n",
       "      <td>06/02/2019</td>\n",
       "    </tr>\n",
       "    <tr>\n",
       "      <th>4450</th>\n",
       "      <td>18.030000</td>\n",
       "      <td>22.815</td>\n",
       "      <td>08:39:12</td>\n",
       "      <td>06/02/2019</td>\n",
       "    </tr>\n",
       "  </tbody>\n",
       "</table>\n",
       "</div>"
      ],
      "text/plain": [
       "      avg_temp_sensors  box_temp      Time        Date\n",
       "4446         18.003333    22.800  08:37:53  06/02/2019\n",
       "4447         18.013333    22.840  08:38:12  06/02/2019\n",
       "4448         18.015000    22.850  08:38:32  06/02/2019\n",
       "4449         18.020000    22.810  08:38:53  06/02/2019\n",
       "4450         18.030000    22.815  08:39:12  06/02/2019"
      ]
     },
     "execution_count": 25,
     "metadata": {},
     "output_type": "execute_result"
    }
   ],
   "source": [
    "_df_compare.tail()"
   ]
  },
  {
   "cell_type": "code",
   "execution_count": 26,
   "metadata": {},
   "outputs": [],
   "source": [
    "def more_than(df, name, val):\n",
    "    '''df = DataFrame, name = column, val = value to compare'''\n",
    "    _df_aux = pd.DataFrame()\n",
    "    name = str(name)\n",
    "    for i in range(len(df)):\n",
    "        if df.iloc[i][name] > val:\n",
    "            _df_aux = _df_aux.append(df.iloc[i])\n",
    "    return _df_aux\n",
    "\n",
    "# def more_than_progressive(df, name, val):\n",
    "#     name = str(name)\n",
    "#     _max = df[name].max()"
   ]
  },
  {
   "cell_type": "code",
   "execution_count": 27,
   "metadata": {},
   "outputs": [
    {
     "data": {
      "text/html": [
       "<div>\n",
       "<style scoped>\n",
       "    .dataframe tbody tr th:only-of-type {\n",
       "        vertical-align: middle;\n",
       "    }\n",
       "\n",
       "    .dataframe tbody tr th {\n",
       "        vertical-align: top;\n",
       "    }\n",
       "\n",
       "    .dataframe thead th {\n",
       "        text-align: right;\n",
       "    }\n",
       "</style>\n",
       "<table border=\"1\" class=\"dataframe\">\n",
       "  <thead>\n",
       "    <tr style=\"text-align: right;\">\n",
       "      <th></th>\n",
       "      <th>Date</th>\n",
       "      <th>Time</th>\n",
       "      <th>avg_temp_sensors</th>\n",
       "      <th>box_temp</th>\n",
       "    </tr>\n",
       "  </thead>\n",
       "  <tbody>\n",
       "    <tr>\n",
       "      <th>0</th>\n",
       "      <td>05/02/2019</td>\n",
       "      <td>15:31:04</td>\n",
       "      <td>18.450000</td>\n",
       "      <td>23.040</td>\n",
       "    </tr>\n",
       "    <tr>\n",
       "      <th>1</th>\n",
       "      <td>05/02/2019</td>\n",
       "      <td>15:31:07</td>\n",
       "      <td>18.451667</td>\n",
       "      <td>23.035</td>\n",
       "    </tr>\n",
       "    <tr>\n",
       "      <th>7</th>\n",
       "      <td>05/02/2019</td>\n",
       "      <td>15:31:25</td>\n",
       "      <td>18.460000</td>\n",
       "      <td>23.035</td>\n",
       "    </tr>\n",
       "    <tr>\n",
       "      <th>13</th>\n",
       "      <td>05/02/2019</td>\n",
       "      <td>15:31:43</td>\n",
       "      <td>18.458333</td>\n",
       "      <td>23.035</td>\n",
       "    </tr>\n",
       "    <tr>\n",
       "      <th>20</th>\n",
       "      <td>05/02/2019</td>\n",
       "      <td>15:32:04</td>\n",
       "      <td>18.460000</td>\n",
       "      <td>23.035</td>\n",
       "    </tr>\n",
       "    <tr>\n",
       "      <th>21</th>\n",
       "      <td>05/02/2019</td>\n",
       "      <td>15:32:07</td>\n",
       "      <td>18.455000</td>\n",
       "      <td>23.035</td>\n",
       "    </tr>\n",
       "    <tr>\n",
       "      <th>2692</th>\n",
       "      <td>05/02/2019</td>\n",
       "      <td>22:52:51</td>\n",
       "      <td>18.138333</td>\n",
       "      <td>23.040</td>\n",
       "    </tr>\n",
       "    <tr>\n",
       "      <th>3402</th>\n",
       "      <td>06/02/2019</td>\n",
       "      <td>02:49:40</td>\n",
       "      <td>18.105000</td>\n",
       "      <td>23.050</td>\n",
       "    </tr>\n",
       "    <tr>\n",
       "      <th>3403</th>\n",
       "      <td>06/02/2019</td>\n",
       "      <td>02:50:00</td>\n",
       "      <td>18.126667</td>\n",
       "      <td>23.045</td>\n",
       "    </tr>\n",
       "    <tr>\n",
       "      <th>3404</th>\n",
       "      <td>06/02/2019</td>\n",
       "      <td>02:50:20</td>\n",
       "      <td>18.145000</td>\n",
       "      <td>23.085</td>\n",
       "    </tr>\n",
       "  </tbody>\n",
       "</table>\n",
       "</div>"
      ],
      "text/plain": [
       "            Date      Time  avg_temp_sensors  box_temp\n",
       "0     05/02/2019  15:31:04         18.450000    23.040\n",
       "1     05/02/2019  15:31:07         18.451667    23.035\n",
       "7     05/02/2019  15:31:25         18.460000    23.035\n",
       "13    05/02/2019  15:31:43         18.458333    23.035\n",
       "20    05/02/2019  15:32:04         18.460000    23.035\n",
       "21    05/02/2019  15:32:07         18.455000    23.035\n",
       "2692  05/02/2019  22:52:51         18.138333    23.040\n",
       "3402  06/02/2019  02:49:40         18.105000    23.050\n",
       "3403  06/02/2019  02:50:00         18.126667    23.045\n",
       "3404  06/02/2019  02:50:20         18.145000    23.085"
      ]
     },
     "execution_count": 27,
     "metadata": {},
     "output_type": "execute_result"
    }
   ],
   "source": [
    "#0.490 V <=> 23.00 °C\n",
    "more_than(_df_compare,'box_temp', 23.03)[:10]\n",
    "#more_than(_raw_data,'105', 0.49)"
   ]
  },
  {
   "cell_type": "code",
   "execution_count": 28,
   "metadata": {},
   "outputs": [],
   "source": [
    "#_df_compare['box_temp'].value_counts()"
   ]
  },
  {
   "cell_type": "markdown",
   "metadata": {},
   "source": [
    "### Stage 08: SENSOR 133-14 - Water flow: 3L/min - nominal temp. air conditioning: 24°C "
   ]
  },
  {
   "cell_type": "code",
   "execution_count": 29,
   "metadata": {},
   "outputs": [],
   "source": [
    "#Import data files\n",
    "_133_data_temp = pd.read_csv('sensor_13314_air_ON_temp.txt', sep='\\t', header=0)\n",
    "_133_data_volts = pd.read_csv('sensor_13314_air_ON_volts.txt', sep='\\t', header=0)"
   ]
  },
  {
   "cell_type": "code",
   "execution_count": 30,
   "metadata": {},
   "outputs": [
    {
     "data": {
      "text/html": [
       "<div>\n",
       "<style scoped>\n",
       "    .dataframe tbody tr th:only-of-type {\n",
       "        vertical-align: middle;\n",
       "    }\n",
       "\n",
       "    .dataframe tbody tr th {\n",
       "        vertical-align: top;\n",
       "    }\n",
       "\n",
       "    .dataframe thead th {\n",
       "        text-align: right;\n",
       "    }\n",
       "</style>\n",
       "<table border=\"1\" class=\"dataframe\">\n",
       "  <thead>\n",
       "    <tr style=\"text-align: right;\">\n",
       "      <th></th>\n",
       "      <th>Unnamed: 0</th>\n",
       "      <th>101</th>\n",
       "      <th>102</th>\n",
       "      <th>103</th>\n",
       "      <th>105</th>\n",
       "      <th>201</th>\n",
       "      <th>202</th>\n",
       "      <th>203</th>\n",
       "      <th>204</th>\n",
       "      <th>205</th>\n",
       "      <th>206</th>\n",
       "      <th>207</th>\n",
       "      <th>208</th>\n",
       "      <th>209</th>\n",
       "    </tr>\n",
       "  </thead>\n",
       "  <tbody>\n",
       "    <tr>\n",
       "      <th>count</th>\n",
       "      <td>1079.000000</td>\n",
       "      <td>1079.000000</td>\n",
       "      <td>1079.00000</td>\n",
       "      <td>1079.000000</td>\n",
       "      <td>1079.000000</td>\n",
       "      <td>1079.000000</td>\n",
       "      <td>1079.000000</td>\n",
       "      <td>1079.000000</td>\n",
       "      <td>1079.000000</td>\n",
       "      <td>1079.000000</td>\n",
       "      <td>1079.000000</td>\n",
       "      <td>1079.000000</td>\n",
       "      <td>1079.000000</td>\n",
       "      <td>1079.000000</td>\n",
       "    </tr>\n",
       "    <tr>\n",
       "      <th>mean</th>\n",
       "      <td>539.000000</td>\n",
       "      <td>0.443062</td>\n",
       "      <td>0.44799</td>\n",
       "      <td>0.458772</td>\n",
       "      <td>0.503583</td>\n",
       "      <td>22.352998</td>\n",
       "      <td>21.717802</td>\n",
       "      <td>22.535774</td>\n",
       "      <td>22.195050</td>\n",
       "      <td>22.589738</td>\n",
       "      <td>22.351155</td>\n",
       "      <td>22.305143</td>\n",
       "      <td>23.248605</td>\n",
       "      <td>22.227427</td>\n",
       "    </tr>\n",
       "    <tr>\n",
       "      <th>std</th>\n",
       "      <td>311.624774</td>\n",
       "      <td>0.001490</td>\n",
       "      <td>0.00151</td>\n",
       "      <td>0.001428</td>\n",
       "      <td>0.000781</td>\n",
       "      <td>0.293653</td>\n",
       "      <td>0.460040</td>\n",
       "      <td>0.023069</td>\n",
       "      <td>0.036031</td>\n",
       "      <td>0.031478</td>\n",
       "      <td>0.030671</td>\n",
       "      <td>0.034156</td>\n",
       "      <td>0.053062</td>\n",
       "      <td>0.034455</td>\n",
       "    </tr>\n",
       "    <tr>\n",
       "      <th>min</th>\n",
       "      <td>0.000000</td>\n",
       "      <td>0.440200</td>\n",
       "      <td>0.44460</td>\n",
       "      <td>0.456000</td>\n",
       "      <td>0.501900</td>\n",
       "      <td>21.487000</td>\n",
       "      <td>20.390000</td>\n",
       "      <td>22.492000</td>\n",
       "      <td>22.127000</td>\n",
       "      <td>22.544000</td>\n",
       "      <td>22.297000</td>\n",
       "      <td>22.244000</td>\n",
       "      <td>23.172000</td>\n",
       "      <td>22.152000</td>\n",
       "    </tr>\n",
       "    <tr>\n",
       "      <th>25%</th>\n",
       "      <td>269.500000</td>\n",
       "      <td>0.442000</td>\n",
       "      <td>0.44690</td>\n",
       "      <td>0.457800</td>\n",
       "      <td>0.503000</td>\n",
       "      <td>22.198000</td>\n",
       "      <td>21.524000</td>\n",
       "      <td>22.519000</td>\n",
       "      <td>22.170000</td>\n",
       "      <td>22.558000</td>\n",
       "      <td>22.329000</td>\n",
       "      <td>22.281000</td>\n",
       "      <td>23.214000</td>\n",
       "      <td>22.205000</td>\n",
       "    </tr>\n",
       "    <tr>\n",
       "      <th>50%</th>\n",
       "      <td>539.000000</td>\n",
       "      <td>0.442800</td>\n",
       "      <td>0.44770</td>\n",
       "      <td>0.458500</td>\n",
       "      <td>0.503500</td>\n",
       "      <td>22.406000</td>\n",
       "      <td>21.808000</td>\n",
       "      <td>22.534000</td>\n",
       "      <td>22.190000</td>\n",
       "      <td>22.586000</td>\n",
       "      <td>22.345000</td>\n",
       "      <td>22.298000</td>\n",
       "      <td>23.239000</td>\n",
       "      <td>22.228000</td>\n",
       "    </tr>\n",
       "    <tr>\n",
       "      <th>75%</th>\n",
       "      <td>808.500000</td>\n",
       "      <td>0.443800</td>\n",
       "      <td>0.44880</td>\n",
       "      <td>0.459500</td>\n",
       "      <td>0.504100</td>\n",
       "      <td>22.609500</td>\n",
       "      <td>22.111000</td>\n",
       "      <td>22.552000</td>\n",
       "      <td>22.218000</td>\n",
       "      <td>22.620000</td>\n",
       "      <td>22.374000</td>\n",
       "      <td>22.327000</td>\n",
       "      <td>23.264000</td>\n",
       "      <td>22.250000</td>\n",
       "    </tr>\n",
       "    <tr>\n",
       "      <th>max</th>\n",
       "      <td>1078.000000</td>\n",
       "      <td>0.448700</td>\n",
       "      <td>0.45360</td>\n",
       "      <td>0.464000</td>\n",
       "      <td>0.505600</td>\n",
       "      <td>22.763000</td>\n",
       "      <td>22.273000</td>\n",
       "      <td>22.593000</td>\n",
       "      <td>22.293000</td>\n",
       "      <td>22.652000</td>\n",
       "      <td>22.424000</td>\n",
       "      <td>22.417000</td>\n",
       "      <td>23.500000</td>\n",
       "      <td>22.324000</td>\n",
       "    </tr>\n",
       "  </tbody>\n",
       "</table>\n",
       "</div>"
      ],
      "text/plain": [
       "        Unnamed: 0          101         102          103          105  \\\n",
       "count  1079.000000  1079.000000  1079.00000  1079.000000  1079.000000   \n",
       "mean    539.000000     0.443062     0.44799     0.458772     0.503583   \n",
       "std     311.624774     0.001490     0.00151     0.001428     0.000781   \n",
       "min       0.000000     0.440200     0.44460     0.456000     0.501900   \n",
       "25%     269.500000     0.442000     0.44690     0.457800     0.503000   \n",
       "50%     539.000000     0.442800     0.44770     0.458500     0.503500   \n",
       "75%     808.500000     0.443800     0.44880     0.459500     0.504100   \n",
       "max    1078.000000     0.448700     0.45360     0.464000     0.505600   \n",
       "\n",
       "               201          202          203          204          205  \\\n",
       "count  1079.000000  1079.000000  1079.000000  1079.000000  1079.000000   \n",
       "mean     22.352998    21.717802    22.535774    22.195050    22.589738   \n",
       "std       0.293653     0.460040     0.023069     0.036031     0.031478   \n",
       "min      21.487000    20.390000    22.492000    22.127000    22.544000   \n",
       "25%      22.198000    21.524000    22.519000    22.170000    22.558000   \n",
       "50%      22.406000    21.808000    22.534000    22.190000    22.586000   \n",
       "75%      22.609500    22.111000    22.552000    22.218000    22.620000   \n",
       "max      22.763000    22.273000    22.593000    22.293000    22.652000   \n",
       "\n",
       "               206          207          208          209  \n",
       "count  1079.000000  1079.000000  1079.000000  1079.000000  \n",
       "mean     22.351155    22.305143    23.248605    22.227427  \n",
       "std       0.030671     0.034156     0.053062     0.034455  \n",
       "min      22.297000    22.244000    23.172000    22.152000  \n",
       "25%      22.329000    22.281000    23.214000    22.205000  \n",
       "50%      22.345000    22.298000    23.239000    22.228000  \n",
       "75%      22.374000    22.327000    23.264000    22.250000  \n",
       "max      22.424000    22.417000    23.500000    22.324000  "
      ]
     },
     "execution_count": 30,
     "metadata": {},
     "output_type": "execute_result"
    }
   ],
   "source": [
    "_133_data_temp.describe()"
   ]
  },
  {
   "cell_type": "code",
   "execution_count": 31,
   "metadata": {},
   "outputs": [
    {
     "data": {
      "text/html": [
       "<div>\n",
       "<style scoped>\n",
       "    .dataframe tbody tr th:only-of-type {\n",
       "        vertical-align: middle;\n",
       "    }\n",
       "\n",
       "    .dataframe tbody tr th {\n",
       "        vertical-align: top;\n",
       "    }\n",
       "\n",
       "    .dataframe thead th {\n",
       "        text-align: right;\n",
       "    }\n",
       "</style>\n",
       "<table border=\"1\" class=\"dataframe\">\n",
       "  <thead>\n",
       "    <tr style=\"text-align: right;\">\n",
       "      <th></th>\n",
       "      <th>Unnamed: 0</th>\n",
       "      <th>Position</th>\n",
       "      <th>X[mV]</th>\n",
       "      <th>Y[mV]</th>\n",
       "      <th>Z[mV]</th>\n",
       "    </tr>\n",
       "  </thead>\n",
       "  <tbody>\n",
       "    <tr>\n",
       "      <th>count</th>\n",
       "      <td>1078.000000</td>\n",
       "      <td>0.0</td>\n",
       "      <td>1078.000000</td>\n",
       "      <td>1078.000000</td>\n",
       "      <td>1078.000000</td>\n",
       "    </tr>\n",
       "    <tr>\n",
       "      <th>mean</th>\n",
       "      <td>538.500000</td>\n",
       "      <td>NaN</td>\n",
       "      <td>-484.630282</td>\n",
       "      <td>-15547.504384</td>\n",
       "      <td>511.103675</td>\n",
       "    </tr>\n",
       "    <tr>\n",
       "      <th>std</th>\n",
       "      <td>311.336099</td>\n",
       "      <td>NaN</td>\n",
       "      <td>0.160908</td>\n",
       "      <td>0.677482</td>\n",
       "      <td>0.107407</td>\n",
       "    </tr>\n",
       "    <tr>\n",
       "      <th>min</th>\n",
       "      <td>0.000000</td>\n",
       "      <td>NaN</td>\n",
       "      <td>-485.049474</td>\n",
       "      <td>-15549.397330</td>\n",
       "      <td>510.793338</td>\n",
       "    </tr>\n",
       "    <tr>\n",
       "      <th>25%</th>\n",
       "      <td>269.250000</td>\n",
       "      <td>NaN</td>\n",
       "      <td>-484.744230</td>\n",
       "      <td>-15548.023058</td>\n",
       "      <td>511.029353</td>\n",
       "    </tr>\n",
       "    <tr>\n",
       "      <th>50%</th>\n",
       "      <td>538.500000</td>\n",
       "      <td>NaN</td>\n",
       "      <td>-484.643375</td>\n",
       "      <td>-15547.633930</td>\n",
       "      <td>511.131634</td>\n",
       "    </tr>\n",
       "    <tr>\n",
       "      <th>75%</th>\n",
       "      <td>807.750000</td>\n",
       "      <td>NaN</td>\n",
       "      <td>-484.521788</td>\n",
       "      <td>-15546.934230</td>\n",
       "      <td>511.187016</td>\n",
       "    </tr>\n",
       "    <tr>\n",
       "      <th>max</th>\n",
       "      <td>1077.000000</td>\n",
       "      <td>NaN</td>\n",
       "      <td>-484.170608</td>\n",
       "      <td>-15545.834650</td>\n",
       "      <td>511.288212</td>\n",
       "    </tr>\n",
       "  </tbody>\n",
       "</table>\n",
       "</div>"
      ],
      "text/plain": [
       "        Unnamed: 0  Position        X[mV]         Y[mV]        Z[mV]\n",
       "count  1078.000000       0.0  1078.000000   1078.000000  1078.000000\n",
       "mean    538.500000       NaN  -484.630282 -15547.504384   511.103675\n",
       "std     311.336099       NaN     0.160908      0.677482     0.107407\n",
       "min       0.000000       NaN  -485.049474 -15549.397330   510.793338\n",
       "25%     269.250000       NaN  -484.744230 -15548.023058   511.029353\n",
       "50%     538.500000       NaN  -484.643375 -15547.633930   511.131634\n",
       "75%     807.750000       NaN  -484.521788 -15546.934230   511.187016\n",
       "max    1077.000000       NaN  -484.170608 -15545.834650   511.288212"
      ]
     },
     "execution_count": 31,
     "metadata": {},
     "output_type": "execute_result"
    }
   ],
   "source": [
    "_133_data_volts.describe()"
   ]
  },
  {
   "cell_type": "code",
   "execution_count": 32,
   "metadata": {},
   "outputs": [],
   "source": [
    "# Converting volts in temperature    \n",
    "_133_X = general_convert(101, 133, _133_data_temp)\n",
    "_133_Y = general_convert(102, 133, _133_data_temp)\n",
    "_133_Z = general_convert(103, 133, _133_data_temp)\n",
    "_133_box = general_convert(105, 133, _133_data_temp)"
   ]
  },
  {
   "cell_type": "code",
   "execution_count": 33,
   "metadata": {},
   "outputs": [
    {
     "data": {
      "text/plain": [
       "1074    17.635\n",
       "1075    17.645\n",
       "1076    17.655\n",
       "1077    17.650\n",
       "1078    17.635\n",
       "Name: 101, dtype: float64"
      ]
     },
     "execution_count": 33,
     "metadata": {},
     "output_type": "execute_result"
    }
   ],
   "source": [
    "_133_X.tail(5)"
   ]
  },
  {
   "cell_type": "code",
   "execution_count": 34,
   "metadata": {},
   "outputs": [
    {
     "data": {
      "text/plain": [
       "0    18.886667\n",
       "1    18.901667\n",
       "2    18.903333\n",
       "3    18.916667\n",
       "4    18.926667\n",
       "dtype: float64"
      ]
     },
     "execution_count": 34,
     "metadata": {},
     "output_type": "execute_result"
    }
   ],
   "source": [
    "#Mean value of X,Y,Z sensors\n",
    "avg_values(_133_X, _133_Y, _133_Z).head()"
   ]
  },
  {
   "cell_type": "code",
   "execution_count": 35,
   "metadata": {},
   "outputs": [
    {
     "data": {
      "text/html": [
       "<div>\n",
       "<style scoped>\n",
       "    .dataframe tbody tr th:only-of-type {\n",
       "        vertical-align: middle;\n",
       "    }\n",
       "\n",
       "    .dataframe tbody tr th {\n",
       "        vertical-align: top;\n",
       "    }\n",
       "\n",
       "    .dataframe thead th {\n",
       "        text-align: right;\n",
       "    }\n",
       "</style>\n",
       "<table border=\"1\" class=\"dataframe\">\n",
       "  <thead>\n",
       "    <tr style=\"text-align: right;\">\n",
       "      <th></th>\n",
       "      <th>avg_temp_sensors</th>\n",
       "      <th>box_temp</th>\n",
       "      <th>Time</th>\n",
       "      <th>Date</th>\n",
       "    </tr>\n",
       "  </thead>\n",
       "  <tbody>\n",
       "    <tr>\n",
       "      <th>0</th>\n",
       "      <td>18.886667</td>\n",
       "      <td>23.660</td>\n",
       "      <td>09:47:33</td>\n",
       "      <td>07/02/2019</td>\n",
       "    </tr>\n",
       "    <tr>\n",
       "      <th>1</th>\n",
       "      <td>18.901667</td>\n",
       "      <td>23.660</td>\n",
       "      <td>09:47:43</td>\n",
       "      <td>07/02/2019</td>\n",
       "    </tr>\n",
       "    <tr>\n",
       "      <th>2</th>\n",
       "      <td>18.903333</td>\n",
       "      <td>23.645</td>\n",
       "      <td>09:47:53</td>\n",
       "      <td>07/02/2019</td>\n",
       "    </tr>\n",
       "    <tr>\n",
       "      <th>3</th>\n",
       "      <td>18.916667</td>\n",
       "      <td>23.640</td>\n",
       "      <td>09:48:03</td>\n",
       "      <td>07/02/2019</td>\n",
       "    </tr>\n",
       "    <tr>\n",
       "      <th>4</th>\n",
       "      <td>18.926667</td>\n",
       "      <td>23.635</td>\n",
       "      <td>09:48:13</td>\n",
       "      <td>07/02/2019</td>\n",
       "    </tr>\n",
       "  </tbody>\n",
       "</table>\n",
       "</div>"
      ],
      "text/plain": [
       "   avg_temp_sensors  box_temp      Time        Date\n",
       "0         18.886667    23.660  09:47:33  07/02/2019\n",
       "1         18.901667    23.660  09:47:43  07/02/2019\n",
       "2         18.903333    23.645  09:47:53  07/02/2019\n",
       "3         18.916667    23.640  09:48:03  07/02/2019\n",
       "4         18.926667    23.635  09:48:13  07/02/2019"
      ]
     },
     "execution_count": 35,
     "metadata": {},
     "output_type": "execute_result"
    }
   ],
   "source": [
    "_avg_sensors_133 = avg_values(_133_X, _133_Y, _133_Z)\n",
    "\n",
    "#Compare mean temperature values of the sensors and box\n",
    "list_of_series = [_avg_sensors_133, _133_box]\n",
    "_df_compare133 = pd.concat(list_of_series, axis=1)\n",
    "_df_compare133.columns = ['avg_temp_sensors', 'box_temp']\n",
    "\n",
    "#Add time and date in _df_compare\n",
    "_df_compare133['Time'] = pd.Series(_133_data_temp['Time'], index=_df_compare133.index)\n",
    "_df_compare133['Date'] = pd.Series(_133_data_temp['Date'], index=_df_compare133.index)\n",
    "_df_compare133.head()"
   ]
  },
  {
   "cell_type": "code",
   "execution_count": 36,
   "metadata": {},
   "outputs": [
    {
     "name": "stdout",
     "output_type": "stream",
     "text": [
      "Mean avg sensors: 18.664\n",
      "Mean temp box: 23.679\n"
     ]
    },
    {
     "data": {
      "image/png": "[encoded data removed]",
      "text/plain": [
       "<Figure size 576x396 with 1 Axes>"
      ]
     },
     "metadata": {},
     "output_type": "display_data"
    }
   ],
   "source": [
    "#Plotting\n",
    "ax = _df_compare133.plot(y='avg_temp_sensors', style='-')\n",
    "_df_compare133.plot(ax=ax, y='box_temp', style='-')\n",
    "ax.set_xlabel('# Measure')\n",
    "ax.set_ylabel('Temperature (°C)')\n",
    "print('Mean avg sensors: %0.3f' % _df_compare133['avg_temp_sensors'].mean())\n",
    "print('Mean temp box: %0.3f' % _df_compare133['box_temp'].mean())"
   ]
  },
  {
   "cell_type": "code",
   "execution_count": 37,
   "metadata": {},
   "outputs": [
    {
     "data": {
      "text/html": [
       "<div>\n",
       "<style scoped>\n",
       "    .dataframe tbody tr th:only-of-type {\n",
       "        vertical-align: middle;\n",
       "    }\n",
       "\n",
       "    .dataframe tbody tr th {\n",
       "        vertical-align: top;\n",
       "    }\n",
       "\n",
       "    .dataframe thead th {\n",
       "        text-align: right;\n",
       "    }\n",
       "</style>\n",
       "<table border=\"1\" class=\"dataframe\">\n",
       "  <thead>\n",
       "    <tr style=\"text-align: right;\">\n",
       "      <th></th>\n",
       "      <th>avg_temp_sensors</th>\n",
       "      <th>box_temp</th>\n",
       "    </tr>\n",
       "  </thead>\n",
       "  <tbody>\n",
       "    <tr>\n",
       "      <th>count</th>\n",
       "      <td>1079.000000</td>\n",
       "      <td>1079.000000</td>\n",
       "    </tr>\n",
       "    <tr>\n",
       "      <th>mean</th>\n",
       "      <td>18.663733</td>\n",
       "      <td>23.679133</td>\n",
       "    </tr>\n",
       "    <tr>\n",
       "      <th>std</th>\n",
       "      <td>0.073505</td>\n",
       "      <td>0.039069</td>\n",
       "    </tr>\n",
       "    <tr>\n",
       "      <th>min</th>\n",
       "      <td>18.521667</td>\n",
       "      <td>23.595000</td>\n",
       "    </tr>\n",
       "    <tr>\n",
       "      <th>25%</th>\n",
       "      <td>18.610000</td>\n",
       "      <td>23.650000</td>\n",
       "    </tr>\n",
       "    <tr>\n",
       "      <th>50%</th>\n",
       "      <td>18.651667</td>\n",
       "      <td>23.675000</td>\n",
       "    </tr>\n",
       "    <tr>\n",
       "      <th>75%</th>\n",
       "      <td>18.701667</td>\n",
       "      <td>23.705000</td>\n",
       "    </tr>\n",
       "    <tr>\n",
       "      <th>max</th>\n",
       "      <td>18.930000</td>\n",
       "      <td>23.780000</td>\n",
       "    </tr>\n",
       "  </tbody>\n",
       "</table>\n",
       "</div>"
      ],
      "text/plain": [
       "       avg_temp_sensors     box_temp\n",
       "count       1079.000000  1079.000000\n",
       "mean          18.663733    23.679133\n",
       "std            0.073505     0.039069\n",
       "min           18.521667    23.595000\n",
       "25%           18.610000    23.650000\n",
       "50%           18.651667    23.675000\n",
       "75%           18.701667    23.705000\n",
       "max           18.930000    23.780000"
      ]
     },
     "execution_count": 37,
     "metadata": {},
     "output_type": "execute_result"
    }
   ],
   "source": [
    "_df_compare133.describe()"
   ]
  },
  {
   "cell_type": "code",
   "execution_count": 38,
   "metadata": {},
   "outputs": [
    {
     "data": {
      "image/png": "[encoded data removed]",
      "text/latex": [
       "$$5.0154$$"
      ],
      "text/plain": [
       "5.0154"
      ]
     },
     "execution_count": 38,
     "metadata": {},
     "output_type": "execute_result"
    }
   ],
   "source": [
    "#Difference between mean values\n",
    "_diff_mean133 = abs(_df_compare133['avg_temp_sensors'].mean()-_df_compare133['box_temp'].mean())\n",
    "#print('%0.3f' % _diff_mean133)\n",
    "round(_diff_mean133,4)"
   ]
  },
  {
   "cell_type": "code",
   "execution_count": 39,
   "metadata": {},
   "outputs": [
    {
     "data": {
      "image/png": "[encoded data removed]",
      "text/latex": [
       "$$0.4083$$"
      ],
      "text/plain": [
       "0.4083"
      ]
     },
     "execution_count": 39,
     "metadata": {},
     "output_type": "execute_result"
    }
   ],
   "source": [
    "#Peak-valley difference sensors average values\n",
    "p_k_diff_133 = _df_compare133['avg_temp_sensors'].max()-_df_compare133['avg_temp_sensors'].min()\n",
    "#print('%0.3f' % p_k_diff_133)\n",
    "round(p_k_diff_133,4)"
   ]
  },
  {
   "cell_type": "code",
   "execution_count": 40,
   "metadata": {
    "scrolled": true
   },
   "outputs": [
    {
     "data": {
      "image/png": "[encoded data removed]",
      "text/latex": [
       "$$0.185$$"
      ],
      "text/plain": [
       "0.185"
      ]
     },
     "execution_count": 40,
     "metadata": {},
     "output_type": "execute_result"
    }
   ],
   "source": [
    "#Peak-valley difference box temperature values\n",
    "p_k_box_133 = _df_compare133['box_temp'].max()-_df_compare133['box_temp'].min()\n",
    "#print('%0.3f' % p_k_box_133)\n",
    "round(p_k_box_133,4)"
   ]
  },
  {
   "cell_type": "code",
   "execution_count": 41,
   "metadata": {},
   "outputs": [
    {
     "data": {
      "image/png": "[encoded data removed]",
      "text/latex": [
       "$$0.0043$$"
      ],
      "text/plain": [
       "0.0043"
      ]
     },
     "execution_count": 41,
     "metadata": {},
     "output_type": "execute_result"
    }
   ],
   "source": [
    "#mean relative error for box temp\n",
    "_rel_133 = (_df_compare133['box_temp'].max()/_df_compare133['box_temp'].mean())-1\n",
    "#print('%0.4f' % _rel_133)\n",
    "round(_rel_133,4)"
   ]
  },
  {
   "cell_type": "code",
   "execution_count": 42,
   "metadata": {
    "scrolled": true
   },
   "outputs": [
    {
     "data": {
      "text/html": [
       "<div>\n",
       "<style scoped>\n",
       "    .dataframe tbody tr th:only-of-type {\n",
       "        vertical-align: middle;\n",
       "    }\n",
       "\n",
       "    .dataframe tbody tr th {\n",
       "        vertical-align: top;\n",
       "    }\n",
       "\n",
       "    .dataframe thead th {\n",
       "        text-align: right;\n",
       "    }\n",
       "</style>\n",
       "<table border=\"1\" class=\"dataframe\">\n",
       "  <thead>\n",
       "    <tr style=\"text-align: right;\">\n",
       "      <th></th>\n",
       "      <th>box_temp_135</th>\n",
       "      <th>box_temp_133</th>\n",
       "    </tr>\n",
       "  </thead>\n",
       "  <tbody>\n",
       "    <tr>\n",
       "      <th>0</th>\n",
       "      <td>23.040</td>\n",
       "      <td>23.660</td>\n",
       "    </tr>\n",
       "    <tr>\n",
       "      <th>1</th>\n",
       "      <td>23.035</td>\n",
       "      <td>23.660</td>\n",
       "    </tr>\n",
       "    <tr>\n",
       "      <th>2</th>\n",
       "      <td>23.030</td>\n",
       "      <td>23.645</td>\n",
       "    </tr>\n",
       "    <tr>\n",
       "      <th>3</th>\n",
       "      <td>23.030</td>\n",
       "      <td>23.640</td>\n",
       "    </tr>\n",
       "    <tr>\n",
       "      <th>4</th>\n",
       "      <td>23.030</td>\n",
       "      <td>23.635</td>\n",
       "    </tr>\n",
       "  </tbody>\n",
       "</table>\n",
       "</div>"
      ],
      "text/plain": [
       "   box_temp_135  box_temp_133\n",
       "0        23.040        23.660\n",
       "1        23.035        23.660\n",
       "2        23.030        23.645\n",
       "3        23.030        23.640\n",
       "4        23.030        23.635"
      ]
     },
     "execution_count": 42,
     "metadata": {},
     "output_type": "execute_result"
    }
   ],
   "source": [
    "#Compare temperature boxes 135 and 133\n",
    "lista = [_df_compare['box_temp'], _df_compare133['box_temp']]\n",
    "temp_boxes = pd.concat(lista, axis=1)\n",
    "temp_boxes.columns = ['box_temp_135', 'box_temp_133']\n",
    "temp_boxes.head()"
   ]
  },
  {
   "cell_type": "code",
   "execution_count": 43,
   "metadata": {
    "scrolled": true
   },
   "outputs": [],
   "source": [
    "# ax4 = temp_boxes.plot(y='box_temp_135', style='-')\n",
    "# temp_boxes.plot(ax = ax4, y='box_temp_133', style='-')"
   ]
  },
  {
   "cell_type": "code",
   "execution_count": 44,
   "metadata": {},
   "outputs": [
    {
     "name": "stdout",
     "output_type": "stream",
     "text": [
      "4451\n",
      "1079\n"
     ]
    }
   ],
   "source": [
    "print(len(_df_compare['box_temp']))\n",
    "print(len(_df_compare133['box_temp']))"
   ]
  },
  {
   "cell_type": "markdown",
   "metadata": {},
   "source": [
    "## Magnetic Field with voltmeters data of the sensor 133-14"
   ]
  },
  {
   "cell_type": "code",
   "execution_count": 45,
   "metadata": {},
   "outputs": [
    {
     "data": {
      "text/html": [
       "<div>\n",
       "<style scoped>\n",
       "    .dataframe tbody tr th:only-of-type {\n",
       "        vertical-align: middle;\n",
       "    }\n",
       "\n",
       "    .dataframe tbody tr th {\n",
       "        vertical-align: top;\n",
       "    }\n",
       "\n",
       "    .dataframe thead th {\n",
       "        text-align: right;\n",
       "    }\n",
       "</style>\n",
       "<table border=\"1\" class=\"dataframe\">\n",
       "  <thead>\n",
       "    <tr style=\"text-align: right;\">\n",
       "      <th></th>\n",
       "      <th>Unnamed: 0</th>\n",
       "      <th>Date</th>\n",
       "      <th>Time</th>\n",
       "      <th>Position</th>\n",
       "      <th>X[mV]</th>\n",
       "      <th>Y[mV]</th>\n",
       "      <th>Z[mV]</th>\n",
       "    </tr>\n",
       "  </thead>\n",
       "  <tbody>\n",
       "    <tr>\n",
       "      <th>0</th>\n",
       "      <td>0</td>\n",
       "      <td>07/02/2019</td>\n",
       "      <td>09:47:40</td>\n",
       "      <td>NaN</td>\n",
       "      <td>-484.335966</td>\n",
       "      <td>-15548.19733</td>\n",
       "      <td>510.921978</td>\n",
       "    </tr>\n",
       "    <tr>\n",
       "      <th>1</th>\n",
       "      <td>1</td>\n",
       "      <td>07/02/2019</td>\n",
       "      <td>09:47:50</td>\n",
       "      <td>NaN</td>\n",
       "      <td>-484.354143</td>\n",
       "      <td>-15547.89510</td>\n",
       "      <td>510.928966</td>\n",
       "    </tr>\n",
       "    <tr>\n",
       "      <th>2</th>\n",
       "      <td>2</td>\n",
       "      <td>07/02/2019</td>\n",
       "      <td>09:48:00</td>\n",
       "      <td>NaN</td>\n",
       "      <td>-484.277874</td>\n",
       "      <td>-15547.75354</td>\n",
       "      <td>510.935035</td>\n",
       "    </tr>\n",
       "    <tr>\n",
       "      <th>3</th>\n",
       "      <td>3</td>\n",
       "      <td>07/02/2019</td>\n",
       "      <td>09:48:10</td>\n",
       "      <td>NaN</td>\n",
       "      <td>-484.269014</td>\n",
       "      <td>-15547.99186</td>\n",
       "      <td>510.958672</td>\n",
       "    </tr>\n",
       "    <tr>\n",
       "      <th>4</th>\n",
       "      <td>4</td>\n",
       "      <td>07/02/2019</td>\n",
       "      <td>09:48:20</td>\n",
       "      <td>NaN</td>\n",
       "      <td>-484.392330</td>\n",
       "      <td>-15548.15003</td>\n",
       "      <td>510.908544</td>\n",
       "    </tr>\n",
       "  </tbody>\n",
       "</table>\n",
       "</div>"
      ],
      "text/plain": [
       "   Unnamed: 0        Date      Time  Position       X[mV]        Y[mV]  \\\n",
       "0           0  07/02/2019  09:47:40       NaN -484.335966 -15548.19733   \n",
       "1           1  07/02/2019  09:47:50       NaN -484.354143 -15547.89510   \n",
       "2           2  07/02/2019  09:48:00       NaN -484.277874 -15547.75354   \n",
       "3           3  07/02/2019  09:48:10       NaN -484.269014 -15547.99186   \n",
       "4           4  07/02/2019  09:48:20       NaN -484.392330 -15548.15003   \n",
       "\n",
       "        Z[mV]  \n",
       "0  510.921978  \n",
       "1  510.928966  \n",
       "2  510.935035  \n",
       "3  510.958672  \n",
       "4  510.908544  "
      ]
     },
     "execution_count": 45,
     "metadata": {},
     "output_type": "execute_result"
    }
   ],
   "source": [
    "_133_data_volts.head()"
   ]
  },
  {
   "cell_type": "code",
   "execution_count": 46,
   "metadata": {},
   "outputs": [],
   "source": [
    "def submultiple(df, name):\n",
    "    '''Convert mV in V'''\n",
    "    _val = pd.Series()\n",
    "    name = str(name)\n",
    "    _val = df[name]*1e-03\n",
    "    return _val\n",
    "\n",
    "_133_data_volts['X[mV]'] = submultiple(_133_data_volts, 'X[mV]')\n",
    "_133_data_volts['Y[mV]'] = submultiple(_133_data_volts, 'Y[mV]')\n",
    "_133_data_volts['Z[mV]'] = submultiple(_133_data_volts, 'Z[mV]')"
   ]
  },
  {
   "cell_type": "code",
   "execution_count": 47,
   "metadata": {},
   "outputs": [
    {
     "data": {
      "text/html": [
       "<div>\n",
       "<style scoped>\n",
       "    .dataframe tbody tr th:only-of-type {\n",
       "        vertical-align: middle;\n",
       "    }\n",
       "\n",
       "    .dataframe tbody tr th {\n",
       "        vertical-align: top;\n",
       "    }\n",
       "\n",
       "    .dataframe thead th {\n",
       "        text-align: right;\n",
       "    }\n",
       "</style>\n",
       "<table border=\"1\" class=\"dataframe\">\n",
       "  <thead>\n",
       "    <tr style=\"text-align: right;\">\n",
       "      <th></th>\n",
       "      <th>Unnamed: 0</th>\n",
       "      <th>Date</th>\n",
       "      <th>Time</th>\n",
       "      <th>Position</th>\n",
       "      <th>X[mV]</th>\n",
       "      <th>Y[mV]</th>\n",
       "      <th>Z[mV]</th>\n",
       "    </tr>\n",
       "  </thead>\n",
       "  <tbody>\n",
       "    <tr>\n",
       "      <th>0</th>\n",
       "      <td>0</td>\n",
       "      <td>07/02/2019</td>\n",
       "      <td>09:47:40</td>\n",
       "      <td>NaN</td>\n",
       "      <td>-0.484336</td>\n",
       "      <td>-15.548197</td>\n",
       "      <td>0.510922</td>\n",
       "    </tr>\n",
       "    <tr>\n",
       "      <th>1</th>\n",
       "      <td>1</td>\n",
       "      <td>07/02/2019</td>\n",
       "      <td>09:47:50</td>\n",
       "      <td>NaN</td>\n",
       "      <td>-0.484354</td>\n",
       "      <td>-15.547895</td>\n",
       "      <td>0.510929</td>\n",
       "    </tr>\n",
       "    <tr>\n",
       "      <th>2</th>\n",
       "      <td>2</td>\n",
       "      <td>07/02/2019</td>\n",
       "      <td>09:48:00</td>\n",
       "      <td>NaN</td>\n",
       "      <td>-0.484278</td>\n",
       "      <td>-15.547754</td>\n",
       "      <td>0.510935</td>\n",
       "    </tr>\n",
       "    <tr>\n",
       "      <th>3</th>\n",
       "      <td>3</td>\n",
       "      <td>07/02/2019</td>\n",
       "      <td>09:48:10</td>\n",
       "      <td>NaN</td>\n",
       "      <td>-0.484269</td>\n",
       "      <td>-15.547992</td>\n",
       "      <td>0.510959</td>\n",
       "    </tr>\n",
       "    <tr>\n",
       "      <th>4</th>\n",
       "      <td>4</td>\n",
       "      <td>07/02/2019</td>\n",
       "      <td>09:48:20</td>\n",
       "      <td>NaN</td>\n",
       "      <td>-0.484392</td>\n",
       "      <td>-15.548150</td>\n",
       "      <td>0.510909</td>\n",
       "    </tr>\n",
       "  </tbody>\n",
       "</table>\n",
       "</div>"
      ],
      "text/plain": [
       "   Unnamed: 0        Date      Time  Position     X[mV]      Y[mV]     Z[mV]\n",
       "0           0  07/02/2019  09:47:40       NaN -0.484336 -15.548197  0.510922\n",
       "1           1  07/02/2019  09:47:50       NaN -0.484354 -15.547895  0.510929\n",
       "2           2  07/02/2019  09:48:00       NaN -0.484278 -15.547754  0.510935\n",
       "3           3  07/02/2019  09:48:10       NaN -0.484269 -15.547992  0.510959\n",
       "4           4  07/02/2019  09:48:20       NaN -0.484392 -15.548150  0.510909"
      ]
     },
     "execution_count": 47,
     "metadata": {},
     "output_type": "execute_result"
    }
   ],
   "source": [
    "_133_data_volts.head()"
   ]
  },
  {
   "cell_type": "code",
   "execution_count": 48,
   "metadata": {},
   "outputs": [],
   "source": [
    "'''Create DataFrame with temp(in volts) and field(in volts) for comparison'''\n",
    "\n",
    "#Drop last row of _133_data_temp for same length in both arrays\n",
    "#_133_data_temp.drop(_133_data_temp.index[1078], inplace=True)\n",
    "\n",
    "#Creating list of Series\n",
    "listSeries = [_133_data_temp['101'], _133_data_volts['X[mV]'],\n",
    "              _133_data_temp['102'], _133_data_volts['Y[mV]'],\n",
    "              _133_data_temp['103'], _133_data_volts['Z[mV]']]\n",
    "\n",
    "#DF temperature and filed X, Y, Z\n",
    "_df_temp_field = pd.concat(listSeries, axis=1)\n",
    "_df_temp_field.columns = ['101(X)', 'X', '102(Y)', 'Y', '103(Z)', 'Z']"
   ]
  },
  {
   "cell_type": "code",
   "execution_count": 49,
   "metadata": {
    "scrolled": true
   },
   "outputs": [
    {
     "data": {
      "text/html": [
       "<div>\n",
       "<style scoped>\n",
       "    .dataframe tbody tr th:only-of-type {\n",
       "        vertical-align: middle;\n",
       "    }\n",
       "\n",
       "    .dataframe tbody tr th {\n",
       "        vertical-align: top;\n",
       "    }\n",
       "\n",
       "    .dataframe thead th {\n",
       "        text-align: right;\n",
       "    }\n",
       "</style>\n",
       "<table border=\"1\" class=\"dataframe\">\n",
       "  <thead>\n",
       "    <tr style=\"text-align: right;\">\n",
       "      <th></th>\n",
       "      <th>101(X)</th>\n",
       "      <th>X</th>\n",
       "      <th>102(Y)</th>\n",
       "      <th>Y</th>\n",
       "      <th>103(Z)</th>\n",
       "      <th>Z</th>\n",
       "    </tr>\n",
       "  </thead>\n",
       "  <tbody>\n",
       "    <tr>\n",
       "      <th>0</th>\n",
       "      <td>0.4476</td>\n",
       "      <td>-0.484336</td>\n",
       "      <td>0.4525</td>\n",
       "      <td>-15.548197</td>\n",
       "      <td>0.4631</td>\n",
       "      <td>0.510922</td>\n",
       "    </tr>\n",
       "    <tr>\n",
       "      <th>1</th>\n",
       "      <td>0.4480</td>\n",
       "      <td>-0.484354</td>\n",
       "      <td>0.4529</td>\n",
       "      <td>-15.547895</td>\n",
       "      <td>0.4632</td>\n",
       "      <td>0.510929</td>\n",
       "    </tr>\n",
       "    <tr>\n",
       "      <th>2</th>\n",
       "      <td>0.4480</td>\n",
       "      <td>-0.484278</td>\n",
       "      <td>0.4527</td>\n",
       "      <td>-15.547754</td>\n",
       "      <td>0.4635</td>\n",
       "      <td>0.510935</td>\n",
       "    </tr>\n",
       "    <tr>\n",
       "      <th>3</th>\n",
       "      <td>0.4482</td>\n",
       "      <td>-0.484269</td>\n",
       "      <td>0.4531</td>\n",
       "      <td>-15.547992</td>\n",
       "      <td>0.4637</td>\n",
       "      <td>0.510959</td>\n",
       "    </tr>\n",
       "    <tr>\n",
       "      <th>4</th>\n",
       "      <td>0.4483</td>\n",
       "      <td>-0.484392</td>\n",
       "      <td>0.4534</td>\n",
       "      <td>-15.548150</td>\n",
       "      <td>0.4639</td>\n",
       "      <td>0.510909</td>\n",
       "    </tr>\n",
       "  </tbody>\n",
       "</table>\n",
       "</div>"
      ],
      "text/plain": [
       "   101(X)         X  102(Y)          Y  103(Z)         Z\n",
       "0  0.4476 -0.484336  0.4525 -15.548197  0.4631  0.510922\n",
       "1  0.4480 -0.484354  0.4529 -15.547895  0.4632  0.510929\n",
       "2  0.4480 -0.484278  0.4527 -15.547754  0.4635  0.510935\n",
       "3  0.4482 -0.484269  0.4531 -15.547992  0.4637  0.510959\n",
       "4  0.4483 -0.484392  0.4534 -15.548150  0.4639  0.510909"
      ]
     },
     "execution_count": 49,
     "metadata": {},
     "output_type": "execute_result"
    }
   ],
   "source": [
    "_df_temp_field.head()"
   ]
  },
  {
   "cell_type": "code",
   "execution_count": 50,
   "metadata": {},
   "outputs": [
    {
     "data": {
      "text/plain": [
       "<matplotlib.axes._subplots.AxesSubplot at 0xe57bfb0>"
      ]
     },
     "execution_count": 50,
     "metadata": {},
     "output_type": "execute_result"
    },
    {
     "data": {
      "image/png": "[encoded data removed]",
      "text/plain": [
       "<Figure size 576x396 with 1 Axes>"
      ]
     },
     "metadata": {},
     "output_type": "display_data"
    }
   ],
   "source": [
    "ax3 = _df_temp_field.plot(y='103(Z)', style='-')\n",
    "_df_temp_field.plot(ax=ax3, y='Z', style='-')\n",
    "# _df_temp_field.plot(ax=ax3, y='103(Z)', style='-')\n",
    "# _df_temp_field.plot(ax=ax3, y='Z', style='-')"
   ]
  },
  {
   "cell_type": "code",
   "execution_count": 51,
   "metadata": {},
   "outputs": [
    {
     "data": {
      "text/plain": [
       "<matplotlib.axes._subplots.AxesSubplot at 0xe547d70>"
      ]
     },
     "execution_count": 51,
     "metadata": {},
     "output_type": "execute_result"
    },
    {
     "data": {
      "image/png": "[encoded data removed]",
      "text/plain": [
       "<Figure size 576x396 with 1 Axes>"
      ]
     },
     "metadata": {},
     "output_type": "display_data"
    }
   ],
   "source": [
    "ax3 = _df_temp_field.plot(y='101(X)', style='-')\n",
    "_df_temp_field.plot(ax=ax3, y='X', style='-')"
   ]
  },
  {
   "cell_type": "markdown",
   "metadata": {},
   "source": [
    "### Stage 10: SENSOR 133-14 Long-term test - Water flow: 3L/min - nominal temp. air conditioning: 24°C "
   ]
  },
  {
   "cell_type": "code",
   "execution_count": 52,
   "metadata": {},
   "outputs": [],
   "source": [
    "#Import data files\n",
    "_133_longterm_t = pd.read_csv('sensor_13314_air_ON_temp_II.txt', sep='\\t', header=0)\n",
    "_133_longterm_v = pd.read_csv('sensor_13314_air_ON_volts_II.txt', sep='\\t', header=0)"
   ]
  },
  {
   "cell_type": "code",
   "execution_count": 53,
   "metadata": {},
   "outputs": [
    {
     "data": {
      "text/html": [
       "<div>\n",
       "<style scoped>\n",
       "    .dataframe tbody tr th:only-of-type {\n",
       "        vertical-align: middle;\n",
       "    }\n",
       "\n",
       "    .dataframe tbody tr th {\n",
       "        vertical-align: top;\n",
       "    }\n",
       "\n",
       "    .dataframe thead th {\n",
       "        text-align: right;\n",
       "    }\n",
       "</style>\n",
       "<table border=\"1\" class=\"dataframe\">\n",
       "  <thead>\n",
       "    <tr style=\"text-align: right;\">\n",
       "      <th></th>\n",
       "      <th>Unnamed: 0</th>\n",
       "      <th>Date</th>\n",
       "      <th>Time</th>\n",
       "      <th>101</th>\n",
       "      <th>102</th>\n",
       "      <th>103</th>\n",
       "      <th>105</th>\n",
       "      <th>201</th>\n",
       "      <th>202</th>\n",
       "      <th>203</th>\n",
       "      <th>204</th>\n",
       "      <th>205</th>\n",
       "      <th>206</th>\n",
       "      <th>207</th>\n",
       "      <th>208</th>\n",
       "      <th>209</th>\n",
       "    </tr>\n",
       "  </thead>\n",
       "  <tbody>\n",
       "    <tr>\n",
       "      <th>0</th>\n",
       "      <td>0</td>\n",
       "      <td>07/02/2019</td>\n",
       "      <td>09:47:33</td>\n",
       "      <td>0.4476</td>\n",
       "      <td>0.4525</td>\n",
       "      <td>0.4631</td>\n",
       "      <td>0.5032</td>\n",
       "      <td>22.679</td>\n",
       "      <td>22.119</td>\n",
       "      <td>22.589</td>\n",
       "      <td>22.293</td>\n",
       "      <td>22.645</td>\n",
       "      <td>22.414</td>\n",
       "      <td>22.417</td>\n",
       "      <td>23.500</td>\n",
       "      <td>22.323</td>\n",
       "    </tr>\n",
       "    <tr>\n",
       "      <th>1</th>\n",
       "      <td>1</td>\n",
       "      <td>07/02/2019</td>\n",
       "      <td>09:47:43</td>\n",
       "      <td>0.4480</td>\n",
       "      <td>0.4529</td>\n",
       "      <td>0.4632</td>\n",
       "      <td>0.5032</td>\n",
       "      <td>22.688</td>\n",
       "      <td>22.125</td>\n",
       "      <td>22.588</td>\n",
       "      <td>22.292</td>\n",
       "      <td>22.644</td>\n",
       "      <td>22.417</td>\n",
       "      <td>22.413</td>\n",
       "      <td>23.499</td>\n",
       "      <td>22.324</td>\n",
       "    </tr>\n",
       "    <tr>\n",
       "      <th>2</th>\n",
       "      <td>2</td>\n",
       "      <td>07/02/2019</td>\n",
       "      <td>09:47:53</td>\n",
       "      <td>0.4480</td>\n",
       "      <td>0.4527</td>\n",
       "      <td>0.4635</td>\n",
       "      <td>0.5029</td>\n",
       "      <td>22.703</td>\n",
       "      <td>22.139</td>\n",
       "      <td>22.588</td>\n",
       "      <td>22.291</td>\n",
       "      <td>22.647</td>\n",
       "      <td>22.420</td>\n",
       "      <td>22.410</td>\n",
       "      <td>23.490</td>\n",
       "      <td>22.321</td>\n",
       "    </tr>\n",
       "    <tr>\n",
       "      <th>3</th>\n",
       "      <td>3</td>\n",
       "      <td>07/02/2019</td>\n",
       "      <td>09:48:03</td>\n",
       "      <td>0.4482</td>\n",
       "      <td>0.4531</td>\n",
       "      <td>0.4637</td>\n",
       "      <td>0.5028</td>\n",
       "      <td>22.701</td>\n",
       "      <td>22.144</td>\n",
       "      <td>22.589</td>\n",
       "      <td>22.286</td>\n",
       "      <td>22.645</td>\n",
       "      <td>22.417</td>\n",
       "      <td>22.407</td>\n",
       "      <td>23.459</td>\n",
       "      <td>22.320</td>\n",
       "    </tr>\n",
       "    <tr>\n",
       "      <th>4</th>\n",
       "      <td>4</td>\n",
       "      <td>07/02/2019</td>\n",
       "      <td>09:48:13</td>\n",
       "      <td>0.4483</td>\n",
       "      <td>0.4534</td>\n",
       "      <td>0.4639</td>\n",
       "      <td>0.5027</td>\n",
       "      <td>22.706</td>\n",
       "      <td>22.152</td>\n",
       "      <td>22.588</td>\n",
       "      <td>22.286</td>\n",
       "      <td>22.648</td>\n",
       "      <td>22.420</td>\n",
       "      <td>22.405</td>\n",
       "      <td>23.458</td>\n",
       "      <td>22.318</td>\n",
       "    </tr>\n",
       "  </tbody>\n",
       "</table>\n",
       "</div>"
      ],
      "text/plain": [
       "   Unnamed: 0        Date      Time     101     102     103     105     201  \\\n",
       "0           0  07/02/2019  09:47:33  0.4476  0.4525  0.4631  0.5032  22.679   \n",
       "1           1  07/02/2019  09:47:43  0.4480  0.4529  0.4632  0.5032  22.688   \n",
       "2           2  07/02/2019  09:47:53  0.4480  0.4527  0.4635  0.5029  22.703   \n",
       "3           3  07/02/2019  09:48:03  0.4482  0.4531  0.4637  0.5028  22.701   \n",
       "4           4  07/02/2019  09:48:13  0.4483  0.4534  0.4639  0.5027  22.706   \n",
       "\n",
       "      202     203     204     205     206     207     208     209  \n",
       "0  22.119  22.589  22.293  22.645  22.414  22.417  23.500  22.323  \n",
       "1  22.125  22.588  22.292  22.644  22.417  22.413  23.499  22.324  \n",
       "2  22.139  22.588  22.291  22.647  22.420  22.410  23.490  22.321  \n",
       "3  22.144  22.589  22.286  22.645  22.417  22.407  23.459  22.320  \n",
       "4  22.152  22.588  22.286  22.648  22.420  22.405  23.458  22.318  "
      ]
     },
     "execution_count": 53,
     "metadata": {},
     "output_type": "execute_result"
    }
   ],
   "source": [
    "_133_longterm_t.head()"
   ]
  },
  {
   "cell_type": "code",
   "execution_count": 54,
   "metadata": {},
   "outputs": [],
   "source": [
    "# Converting volts in temperature    \n",
    "_133_X_long = general_convert(101, 133, _133_longterm_t)\n",
    "_133_Y_long = general_convert(102, 133, _133_longterm_t)\n",
    "_133_Z_long = general_convert(103, 133, _133_longterm_t)\n",
    "_133_box_long = general_convert(105, 133, _133_longterm_t)"
   ]
  },
  {
   "cell_type": "code",
   "execution_count": 55,
   "metadata": {},
   "outputs": [
    {
     "data": {
      "text/html": [
       "<div>\n",
       "<style scoped>\n",
       "    .dataframe tbody tr th:only-of-type {\n",
       "        vertical-align: middle;\n",
       "    }\n",
       "\n",
       "    .dataframe tbody tr th {\n",
       "        vertical-align: top;\n",
       "    }\n",
       "\n",
       "    .dataframe thead th {\n",
       "        text-align: right;\n",
       "    }\n",
       "</style>\n",
       "<table border=\"1\" class=\"dataframe\">\n",
       "  <thead>\n",
       "    <tr style=\"text-align: right;\">\n",
       "      <th></th>\n",
       "      <th>avg_temp_sensors</th>\n",
       "      <th>box_temp</th>\n",
       "      <th>Time</th>\n",
       "      <th>Date</th>\n",
       "    </tr>\n",
       "  </thead>\n",
       "  <tbody>\n",
       "    <tr>\n",
       "      <th>0</th>\n",
       "      <td>18.886667</td>\n",
       "      <td>23.660</td>\n",
       "      <td>09:47:33</td>\n",
       "      <td>07/02/2019</td>\n",
       "    </tr>\n",
       "    <tr>\n",
       "      <th>1</th>\n",
       "      <td>18.901667</td>\n",
       "      <td>23.660</td>\n",
       "      <td>09:47:43</td>\n",
       "      <td>07/02/2019</td>\n",
       "    </tr>\n",
       "    <tr>\n",
       "      <th>2</th>\n",
       "      <td>18.903333</td>\n",
       "      <td>23.645</td>\n",
       "      <td>09:47:53</td>\n",
       "      <td>07/02/2019</td>\n",
       "    </tr>\n",
       "    <tr>\n",
       "      <th>3</th>\n",
       "      <td>18.916667</td>\n",
       "      <td>23.640</td>\n",
       "      <td>09:48:03</td>\n",
       "      <td>07/02/2019</td>\n",
       "    </tr>\n",
       "    <tr>\n",
       "      <th>4</th>\n",
       "      <td>18.926667</td>\n",
       "      <td>23.635</td>\n",
       "      <td>09:48:13</td>\n",
       "      <td>07/02/2019</td>\n",
       "    </tr>\n",
       "  </tbody>\n",
       "</table>\n",
       "</div>"
      ],
      "text/plain": [
       "   avg_temp_sensors  box_temp      Time        Date\n",
       "0         18.886667    23.660  09:47:33  07/02/2019\n",
       "1         18.901667    23.660  09:47:43  07/02/2019\n",
       "2         18.903333    23.645  09:47:53  07/02/2019\n",
       "3         18.916667    23.640  09:48:03  07/02/2019\n",
       "4         18.926667    23.635  09:48:13  07/02/2019"
      ]
     },
     "execution_count": 55,
     "metadata": {},
     "output_type": "execute_result"
    }
   ],
   "source": [
    "#Catches average values of the sensors\n",
    "_avg_133_long = avg_values(_133_X_long, _133_Y_long, _133_Z_long)\n",
    "\n",
    "#Creating Data Frame for compare mean temperature values of the sensors and box\n",
    "combined = [_avg_133_long, _133_box_long]\n",
    "_df_compare133_long = pd.concat(combined, axis=1)\n",
    "_df_compare133_long.columns = ['avg_temp_sensors', 'box_temp']\n",
    "\n",
    "#Add time and date in _df_compare133_long\n",
    "_df_compare133_long['Time'] = pd.Series(_133_longterm_t['Time'], index=_df_compare133_long.index)\n",
    "_df_compare133_long['Date'] = pd.Series(_133_longterm_t['Date'], index=_df_compare133_long.index)\n",
    "_df_compare133_long.head()"
   ]
  },
  {
   "cell_type": "code",
   "execution_count": 56,
   "metadata": {},
   "outputs": [
    {
     "data": {
      "text/plain": [
       "Text(17.246875000000003, 0.5, 'Temperature (°C)')"
      ]
     },
     "execution_count": 56,
     "metadata": {},
     "output_type": "execute_result"
    },
    {
     "data": {
      "image/png": "[encoded data removed]",
      "text/plain": [
       "<Figure size 576x396 with 1 Axes>"
      ]
     },
     "metadata": {},
     "output_type": "display_data"
    }
   ],
   "source": [
    "#Plotting\n",
    "_lu = _df_compare133_long.plot(y='avg_temp_sensors', style='-')\n",
    "_df_compare133_long.plot(ax=_lu, y='box_temp', style='-')\n",
    "ax.set_xlabel('# Measure')\n",
    "ax.set_ylabel('Temperature (°C)')"
   ]
  },
  {
   "cell_type": "code",
   "execution_count": 57,
   "metadata": {},
   "outputs": [
    {
     "data": {
      "text/html": [
       "<div>\n",
       "<style scoped>\n",
       "    .dataframe tbody tr th:only-of-type {\n",
       "        vertical-align: middle;\n",
       "    }\n",
       "\n",
       "    .dataframe tbody tr th {\n",
       "        vertical-align: top;\n",
       "    }\n",
       "\n",
       "    .dataframe thead th {\n",
       "        text-align: right;\n",
       "    }\n",
       "</style>\n",
       "<table border=\"1\" class=\"dataframe\">\n",
       "  <thead>\n",
       "    <tr style=\"text-align: right;\">\n",
       "      <th></th>\n",
       "      <th>avg_temp_sensors</th>\n",
       "      <th>box_temp</th>\n",
       "    </tr>\n",
       "  </thead>\n",
       "  <tbody>\n",
       "    <tr>\n",
       "      <th>count</th>\n",
       "      <td>8119.000000</td>\n",
       "      <td>8119.000000</td>\n",
       "    </tr>\n",
       "    <tr>\n",
       "      <th>mean</th>\n",
       "      <td>18.766287</td>\n",
       "      <td>23.820677</td>\n",
       "    </tr>\n",
       "    <tr>\n",
       "      <th>std</th>\n",
       "      <td>0.491297</td>\n",
       "      <td>0.307875</td>\n",
       "    </tr>\n",
       "    <tr>\n",
       "      <th>min</th>\n",
       "      <td>18.195000</td>\n",
       "      <td>23.150000</td>\n",
       "    </tr>\n",
       "    <tr>\n",
       "      <th>25%</th>\n",
       "      <td>18.516667</td>\n",
       "      <td>23.665000</td>\n",
       "    </tr>\n",
       "    <tr>\n",
       "      <th>50%</th>\n",
       "      <td>18.580000</td>\n",
       "      <td>23.760000</td>\n",
       "    </tr>\n",
       "    <tr>\n",
       "      <th>75%</th>\n",
       "      <td>18.675000</td>\n",
       "      <td>23.895000</td>\n",
       "    </tr>\n",
       "    <tr>\n",
       "      <th>max</th>\n",
       "      <td>20.306667</td>\n",
       "      <td>24.890000</td>\n",
       "    </tr>\n",
       "  </tbody>\n",
       "</table>\n",
       "</div>"
      ],
      "text/plain": [
       "       avg_temp_sensors     box_temp\n",
       "count       8119.000000  8119.000000\n",
       "mean          18.766287    23.820677\n",
       "std            0.491297     0.307875\n",
       "min           18.195000    23.150000\n",
       "25%           18.516667    23.665000\n",
       "50%           18.580000    23.760000\n",
       "75%           18.675000    23.895000\n",
       "max           20.306667    24.890000"
      ]
     },
     "execution_count": 57,
     "metadata": {},
     "output_type": "execute_result"
    }
   ],
   "source": [
    "_df_compare133_long.describe()"
   ]
  },
  {
   "cell_type": "code",
   "execution_count": 58,
   "metadata": {},
   "outputs": [
    {
     "data": {
      "text/html": [
       "<div>\n",
       "<style scoped>\n",
       "    .dataframe tbody tr th:only-of-type {\n",
       "        vertical-align: middle;\n",
       "    }\n",
       "\n",
       "    .dataframe tbody tr th {\n",
       "        vertical-align: top;\n",
       "    }\n",
       "\n",
       "    .dataframe thead th {\n",
       "        text-align: right;\n",
       "    }\n",
       "</style>\n",
       "<table border=\"1\" class=\"dataframe\">\n",
       "  <thead>\n",
       "    <tr style=\"text-align: right;\">\n",
       "      <th></th>\n",
       "      <th>avg_temp_sensors</th>\n",
       "      <th>box_temp</th>\n",
       "      <th>Time</th>\n",
       "      <th>Date</th>\n",
       "    </tr>\n",
       "  </thead>\n",
       "  <tbody>\n",
       "    <tr>\n",
       "      <th>2437</th>\n",
       "      <td>20.18</td>\n",
       "      <td>24.89</td>\n",
       "      <td>16:46:36</td>\n",
       "      <td>07/02/2019</td>\n",
       "    </tr>\n",
       "  </tbody>\n",
       "</table>\n",
       "</div>"
      ],
      "text/plain": [
       "      avg_temp_sensors  box_temp      Time        Date\n",
       "2437             20.18     24.89  16:46:36  07/02/2019"
      ]
     },
     "execution_count": 58,
     "metadata": {},
     "output_type": "execute_result"
    }
   ],
   "source": [
    "#Locate maximum temperature value in 'box_temp'\n",
    "_df_compare133_long.loc[_df_compare133_long['box_temp'] == 24.890000]"
   ]
  },
  {
   "cell_type": "code",
   "execution_count": 59,
   "metadata": {
    "scrolled": true
   },
   "outputs": [
    {
     "data": {
      "text/html": [
       "<div>\n",
       "<style scoped>\n",
       "    .dataframe tbody tr th:only-of-type {\n",
       "        vertical-align: middle;\n",
       "    }\n",
       "\n",
       "    .dataframe tbody tr th {\n",
       "        vertical-align: top;\n",
       "    }\n",
       "\n",
       "    .dataframe thead th {\n",
       "        text-align: right;\n",
       "    }\n",
       "</style>\n",
       "<table border=\"1\" class=\"dataframe\">\n",
       "  <thead>\n",
       "    <tr style=\"text-align: right;\">\n",
       "      <th></th>\n",
       "      <th>avg_temp_sensors</th>\n",
       "      <th>box_temp</th>\n",
       "      <th>Time</th>\n",
       "      <th>Date</th>\n",
       "    </tr>\n",
       "  </thead>\n",
       "  <tbody>\n",
       "    <tr>\n",
       "      <th>2647</th>\n",
       "      <td>18.198333</td>\n",
       "      <td>23.635</td>\n",
       "      <td>17:21:38</td>\n",
       "      <td>07/02/2019</td>\n",
       "    </tr>\n",
       "    <tr>\n",
       "      <th>2648</th>\n",
       "      <td>18.195000</td>\n",
       "      <td>23.640</td>\n",
       "      <td>17:21:48</td>\n",
       "      <td>07/02/2019</td>\n",
       "    </tr>\n",
       "    <tr>\n",
       "      <th>2680</th>\n",
       "      <td>18.198333</td>\n",
       "      <td>23.560</td>\n",
       "      <td>17:27:08</td>\n",
       "      <td>07/02/2019</td>\n",
       "    </tr>\n",
       "  </tbody>\n",
       "</table>\n",
       "</div>"
      ],
      "text/plain": [
       "      avg_temp_sensors  box_temp      Time        Date\n",
       "2647         18.198333    23.635  17:21:38  07/02/2019\n",
       "2648         18.195000    23.640  17:21:48  07/02/2019\n",
       "2680         18.198333    23.560  17:27:08  07/02/2019"
      ]
     },
     "execution_count": 59,
     "metadata": {},
     "output_type": "execute_result"
    }
   ],
   "source": [
    "#Locate minimum\n",
    "_df_compare133_long.loc[_df_compare133_long['avg_temp_sensors'] < 18.20]"
   ]
  },
  {
   "cell_type": "code",
   "execution_count": 60,
   "metadata": {},
   "outputs": [
    {
     "name": "stdout",
     "output_type": "stream",
     "text": [
      "5.054\n"
     ]
    }
   ],
   "source": [
    "#Difference between mean values\n",
    "_diff_mean133_long = abs(_df_compare133_long['avg_temp_sensors'].mean()-_df_compare133_long['box_temp'].mean())\n",
    "print('%0.3f' % _diff_mean133_long)"
   ]
  },
  {
   "cell_type": "code",
   "execution_count": 61,
   "metadata": {
    "scrolled": true
   },
   "outputs": [
    {
     "data": {
      "text/plain": [
       "0    23.940667\n",
       "1    23.955667\n",
       "2    23.957333\n",
       "3    23.970667\n",
       "4    23.980667\n",
       "Name: avg_temp_sensors, dtype: float64"
      ]
     },
     "execution_count": 61,
     "metadata": {},
     "output_type": "execute_result"
    }
   ],
   "source": [
    "#Shift offset avg sensor values\n",
    "_shift_avg_sensor = _df_compare133_long['avg_temp_sensors'] + 5.054\n",
    "_shift_avg_sensor.head()"
   ]
  },
  {
   "cell_type": "code",
   "execution_count": 62,
   "metadata": {},
   "outputs": [],
   "source": [
    "#difference between shifted values and box_temp values\n",
    "_difference = _shift_avg_sensor - _df_compare133_long['box_temp']"
   ]
  },
  {
   "cell_type": "code",
   "execution_count": 63,
   "metadata": {},
   "outputs": [
    {
     "data": {
      "image/png": "[encoded data removed]",
      "text/plain": [
       "<Figure size 576x396 with 1 Axes>"
      ]
     },
     "metadata": {},
     "output_type": "display_data"
    }
   ],
   "source": [
    "#Plotting shift values\n",
    "fig, ax = plt.subplots()\n",
    "#ax.plot_date(_df_compare133_long['Time'], _shift_avg_sensor, 'b-')\n",
    "ax.plot(_df_compare133_long.index, _shift_avg_sensor)\n",
    "ax.plot(_df_compare133_long.index, _df_compare133_long['box_temp'])\n",
    "ax.legend(loc='best')\n",
    "ax.grid(True)"
   ]
  },
  {
   "cell_type": "code",
   "execution_count": 64,
   "metadata": {},
   "outputs": [],
   "source": [
    "#Slice Data Frame for get values without ramp (over 5000)\n",
    "_slice_df = _df_compare133_long[5000:]"
   ]
  },
  {
   "cell_type": "code",
   "execution_count": 65,
   "metadata": {
    "scrolled": true
   },
   "outputs": [
    {
     "data": {
      "text/html": [
       "<div>\n",
       "<style scoped>\n",
       "    .dataframe tbody tr th:only-of-type {\n",
       "        vertical-align: middle;\n",
       "    }\n",
       "\n",
       "    .dataframe tbody tr th {\n",
       "        vertical-align: top;\n",
       "    }\n",
       "\n",
       "    .dataframe thead th {\n",
       "        text-align: right;\n",
       "    }\n",
       "</style>\n",
       "<table border=\"1\" class=\"dataframe\">\n",
       "  <thead>\n",
       "    <tr style=\"text-align: right;\">\n",
       "      <th></th>\n",
       "      <th>avg_temp_sensors</th>\n",
       "      <th>box_temp</th>\n",
       "      <th>Time</th>\n",
       "      <th>Date</th>\n",
       "    </tr>\n",
       "  </thead>\n",
       "  <tbody>\n",
       "    <tr>\n",
       "      <th>5000</th>\n",
       "      <td>18.580000</td>\n",
       "      <td>23.610</td>\n",
       "      <td>23:54:08</td>\n",
       "      <td>07/02/2019</td>\n",
       "    </tr>\n",
       "    <tr>\n",
       "      <th>5001</th>\n",
       "      <td>18.580000</td>\n",
       "      <td>23.595</td>\n",
       "      <td>23:54:18</td>\n",
       "      <td>07/02/2019</td>\n",
       "    </tr>\n",
       "    <tr>\n",
       "      <th>5002</th>\n",
       "      <td>18.573333</td>\n",
       "      <td>23.595</td>\n",
       "      <td>23:54:28</td>\n",
       "      <td>07/02/2019</td>\n",
       "    </tr>\n",
       "    <tr>\n",
       "      <th>5003</th>\n",
       "      <td>18.565000</td>\n",
       "      <td>23.575</td>\n",
       "      <td>23:54:38</td>\n",
       "      <td>07/02/2019</td>\n",
       "    </tr>\n",
       "    <tr>\n",
       "      <th>5004</th>\n",
       "      <td>18.558333</td>\n",
       "      <td>23.585</td>\n",
       "      <td>23:54:48</td>\n",
       "      <td>07/02/2019</td>\n",
       "    </tr>\n",
       "  </tbody>\n",
       "</table>\n",
       "</div>"
      ],
      "text/plain": [
       "      avg_temp_sensors  box_temp      Time        Date\n",
       "5000         18.580000    23.610  23:54:08  07/02/2019\n",
       "5001         18.580000    23.595  23:54:18  07/02/2019\n",
       "5002         18.573333    23.595  23:54:28  07/02/2019\n",
       "5003         18.565000    23.575  23:54:38  07/02/2019\n",
       "5004         18.558333    23.585  23:54:48  07/02/2019"
      ]
     },
     "execution_count": 65,
     "metadata": {},
     "output_type": "execute_result"
    }
   ],
   "source": [
    "_slice_df.head()"
   ]
  },
  {
   "cell_type": "code",
   "execution_count": 66,
   "metadata": {
    "scrolled": true
   },
   "outputs": [
    {
     "data": {
      "text/html": [
       "<div>\n",
       "<style scoped>\n",
       "    .dataframe tbody tr th:only-of-type {\n",
       "        vertical-align: middle;\n",
       "    }\n",
       "\n",
       "    .dataframe tbody tr th {\n",
       "        vertical-align: top;\n",
       "    }\n",
       "\n",
       "    .dataframe thead th {\n",
       "        text-align: right;\n",
       "    }\n",
       "</style>\n",
       "<table border=\"1\" class=\"dataframe\">\n",
       "  <thead>\n",
       "    <tr style=\"text-align: right;\">\n",
       "      <th></th>\n",
       "      <th>avg_temp_sensors</th>\n",
       "      <th>box_temp</th>\n",
       "      <th>Time</th>\n",
       "      <th>Date</th>\n",
       "    </tr>\n",
       "  </thead>\n",
       "  <tbody>\n",
       "    <tr>\n",
       "      <th>8114</th>\n",
       "      <td>18.618333</td>\n",
       "      <td>23.390</td>\n",
       "      <td>08:33:34</td>\n",
       "      <td>08/02/2019</td>\n",
       "    </tr>\n",
       "    <tr>\n",
       "      <th>8115</th>\n",
       "      <td>18.615000</td>\n",
       "      <td>23.390</td>\n",
       "      <td>08:33:44</td>\n",
       "      <td>08/02/2019</td>\n",
       "    </tr>\n",
       "    <tr>\n",
       "      <th>8116</th>\n",
       "      <td>18.621667</td>\n",
       "      <td>23.420</td>\n",
       "      <td>08:33:54</td>\n",
       "      <td>08/02/2019</td>\n",
       "    </tr>\n",
       "    <tr>\n",
       "      <th>8117</th>\n",
       "      <td>18.625000</td>\n",
       "      <td>23.405</td>\n",
       "      <td>08:34:04</td>\n",
       "      <td>08/02/2019</td>\n",
       "    </tr>\n",
       "    <tr>\n",
       "      <th>8118</th>\n",
       "      <td>18.626667</td>\n",
       "      <td>23.415</td>\n",
       "      <td>08:34:14</td>\n",
       "      <td>08/02/2019</td>\n",
       "    </tr>\n",
       "  </tbody>\n",
       "</table>\n",
       "</div>"
      ],
      "text/plain": [
       "      avg_temp_sensors  box_temp      Time        Date\n",
       "8114         18.618333    23.390  08:33:34  08/02/2019\n",
       "8115         18.615000    23.390  08:33:44  08/02/2019\n",
       "8116         18.621667    23.420  08:33:54  08/02/2019\n",
       "8117         18.625000    23.405  08:34:04  08/02/2019\n",
       "8118         18.626667    23.415  08:34:14  08/02/2019"
      ]
     },
     "execution_count": 66,
     "metadata": {},
     "output_type": "execute_result"
    }
   ],
   "source": [
    "_slice_df.tail()"
   ]
  },
  {
   "cell_type": "code",
   "execution_count": 67,
   "metadata": {
    "scrolled": true
   },
   "outputs": [
    {
     "data": {
      "text/html": [
       "<div>\n",
       "<style scoped>\n",
       "    .dataframe tbody tr th:only-of-type {\n",
       "        vertical-align: middle;\n",
       "    }\n",
       "\n",
       "    .dataframe tbody tr th {\n",
       "        vertical-align: top;\n",
       "    }\n",
       "\n",
       "    .dataframe thead th {\n",
       "        text-align: right;\n",
       "    }\n",
       "</style>\n",
       "<table border=\"1\" class=\"dataframe\">\n",
       "  <thead>\n",
       "    <tr style=\"text-align: right;\">\n",
       "      <th></th>\n",
       "      <th>avg_temp_sensors</th>\n",
       "      <th>box_temp</th>\n",
       "    </tr>\n",
       "  </thead>\n",
       "  <tbody>\n",
       "    <tr>\n",
       "      <th>count</th>\n",
       "      <td>3119.000000</td>\n",
       "      <td>3119.000000</td>\n",
       "    </tr>\n",
       "    <tr>\n",
       "      <th>mean</th>\n",
       "      <td>18.542983</td>\n",
       "      <td>23.637764</td>\n",
       "    </tr>\n",
       "    <tr>\n",
       "      <th>std</th>\n",
       "      <td>0.067335</td>\n",
       "      <td>0.195288</td>\n",
       "    </tr>\n",
       "    <tr>\n",
       "      <th>min</th>\n",
       "      <td>18.376667</td>\n",
       "      <td>23.150000</td>\n",
       "    </tr>\n",
       "    <tr>\n",
       "      <th>25%</th>\n",
       "      <td>18.511667</td>\n",
       "      <td>23.560000</td>\n",
       "    </tr>\n",
       "    <tr>\n",
       "      <th>50%</th>\n",
       "      <td>18.551667</td>\n",
       "      <td>23.680000</td>\n",
       "    </tr>\n",
       "    <tr>\n",
       "      <th>75%</th>\n",
       "      <td>18.591667</td>\n",
       "      <td>23.775000</td>\n",
       "    </tr>\n",
       "    <tr>\n",
       "      <th>max</th>\n",
       "      <td>18.708333</td>\n",
       "      <td>24.020000</td>\n",
       "    </tr>\n",
       "  </tbody>\n",
       "</table>\n",
       "</div>"
      ],
      "text/plain": [
       "       avg_temp_sensors     box_temp\n",
       "count       3119.000000  3119.000000\n",
       "mean          18.542983    23.637764\n",
       "std            0.067335     0.195288\n",
       "min           18.376667    23.150000\n",
       "25%           18.511667    23.560000\n",
       "50%           18.551667    23.680000\n",
       "75%           18.591667    23.775000\n",
       "max           18.708333    24.020000"
      ]
     },
     "execution_count": 67,
     "metadata": {},
     "output_type": "execute_result"
    }
   ],
   "source": [
    "_slice_df.describe()"
   ]
  },
  {
   "cell_type": "code",
   "execution_count": 68,
   "metadata": {},
   "outputs": [
    {
     "data": {
      "text/plain": [
       "<matplotlib.axes._subplots.AxesSubplot at 0xfa01270>"
      ]
     },
     "execution_count": 68,
     "metadata": {},
     "output_type": "execute_result"
    },
    {
     "data": {
      "image/png": "[encoded data removed]",
      "text/plain": [
       "<Figure size 576x396 with 1 Axes>"
      ]
     },
     "metadata": {},
     "output_type": "display_data"
    }
   ],
   "source": [
    "cas = _slice_df.plot(y='avg_temp_sensors', style='-')\n",
    "_slice_df.plot(ax = cas, y='box_temp', style='-')\n",
    "#_slice_df.plot(ax =cas, y=_slice_df['avg_temp_sensors'].max(), style='r--')"
   ]
  },
  {
   "cell_type": "markdown",
   "metadata": {},
   "source": [
    "### Stage 11: SENSOR 133-14 Long-term test - ventilation on electronic - Water flow: 3L/min - nominal temp. air conditioning: 24°C "
   ]
  },
  {
   "cell_type": "code",
   "execution_count": 69,
   "metadata": {},
   "outputs": [],
   "source": [
    "_133_vent = pd.read_csv('sensor_13314_air_ON_temp_III.txt', sep='\\t', header=0)"
   ]
  },
  {
   "cell_type": "code",
   "execution_count": 70,
   "metadata": {},
   "outputs": [],
   "source": [
    "# Converting volts in temperature    \n",
    "_133_vent_X = general_convert(101, 133, _133_vent)\n",
    "_133_vent_Y = general_convert(102, 133, _133_vent)\n",
    "_133_vent_Z = general_convert(103, 133, _133_vent)\n",
    "_133_vent_box = general_convert(105, 133, _133_vent)"
   ]
  },
  {
   "cell_type": "code",
   "execution_count": 71,
   "metadata": {},
   "outputs": [
    {
     "data": {
      "text/html": [
       "<div>\n",
       "<style scoped>\n",
       "    .dataframe tbody tr th:only-of-type {\n",
       "        vertical-align: middle;\n",
       "    }\n",
       "\n",
       "    .dataframe tbody tr th {\n",
       "        vertical-align: top;\n",
       "    }\n",
       "\n",
       "    .dataframe thead th {\n",
       "        text-align: right;\n",
       "    }\n",
       "</style>\n",
       "<table border=\"1\" class=\"dataframe\">\n",
       "  <thead>\n",
       "    <tr style=\"text-align: right;\">\n",
       "      <th></th>\n",
       "      <th>avg_temp_sensors</th>\n",
       "      <th>box_temp</th>\n",
       "      <th>Time</th>\n",
       "      <th>Date</th>\n",
       "    </tr>\n",
       "  </thead>\n",
       "  <tbody>\n",
       "    <tr>\n",
       "      <th>0</th>\n",
       "      <td>18.866667</td>\n",
       "      <td>23.550</td>\n",
       "      <td>08:56:10</td>\n",
       "      <td>08/02/2019</td>\n",
       "    </tr>\n",
       "    <tr>\n",
       "      <th>1</th>\n",
       "      <td>18.861667</td>\n",
       "      <td>23.570</td>\n",
       "      <td>08:56:20</td>\n",
       "      <td>08/02/2019</td>\n",
       "    </tr>\n",
       "    <tr>\n",
       "      <th>2</th>\n",
       "      <td>18.853333</td>\n",
       "      <td>23.570</td>\n",
       "      <td>08:56:30</td>\n",
       "      <td>08/02/2019</td>\n",
       "    </tr>\n",
       "    <tr>\n",
       "      <th>3</th>\n",
       "      <td>18.836667</td>\n",
       "      <td>23.575</td>\n",
       "      <td>08:56:40</td>\n",
       "      <td>08/02/2019</td>\n",
       "    </tr>\n",
       "    <tr>\n",
       "      <th>4</th>\n",
       "      <td>18.820000</td>\n",
       "      <td>23.580</td>\n",
       "      <td>08:56:50</td>\n",
       "      <td>08/02/2019</td>\n",
       "    </tr>\n",
       "  </tbody>\n",
       "</table>\n",
       "</div>"
      ],
      "text/plain": [
       "   avg_temp_sensors  box_temp      Time        Date\n",
       "0         18.866667    23.550  08:56:10  08/02/2019\n",
       "1         18.861667    23.570  08:56:20  08/02/2019\n",
       "2         18.853333    23.570  08:56:30  08/02/2019\n",
       "3         18.836667    23.575  08:56:40  08/02/2019\n",
       "4         18.820000    23.580  08:56:50  08/02/2019"
      ]
     },
     "execution_count": 71,
     "metadata": {},
     "output_type": "execute_result"
    }
   ],
   "source": [
    "#Catches average values of the sensors\n",
    "_avg_133_vent = avg_values(_133_vent_X, _133_vent_Y, _133_vent_Z)\n",
    "\n",
    "#Creating Data Frame for compare average temperature values of the sensors and box\n",
    "combined = [_avg_133_vent, _133_vent_box]\n",
    "_df_compare133_vent = pd.concat(combined, axis=1)\n",
    "_df_compare133_vent.columns = ['avg_temp_sensors', 'box_temp']\n",
    "\n",
    "#Add time and date in _df_compare133_long\n",
    "_df_compare133_vent['Time'] = pd.Series(_133_vent['Time'], index=_df_compare133_vent.index)\n",
    "_df_compare133_vent['Date'] = pd.Series(_133_vent['Date'], index=_df_compare133_vent.index)\n",
    "_df_compare133_vent.head()"
   ]
  },
  {
   "cell_type": "code",
   "execution_count": 72,
   "metadata": {
    "scrolled": true
   },
   "outputs": [
    {
     "data": {
      "text/plain": [
       "Text(3.200000000000003, 0.5, 'Temperature (°C)')"
      ]
     },
     "execution_count": 72,
     "metadata": {},
     "output_type": "execute_result"
    },
    {
     "data": {
      "image/png": "[encoded data removed]",
      "text/plain": [
       "<Figure size 576x396 with 1 Axes>"
      ]
     },
     "metadata": {},
     "output_type": "display_data"
    }
   ],
   "source": [
    "#Plotting\n",
    "_lu = _df_compare133_vent.plot(y='avg_temp_sensors', style='-')\n",
    "_df_compare133_vent.plot(ax=_lu, y='box_temp', style='-')\n",
    "ax.set_xlabel('# Measure')\n",
    "ax.set_ylabel('Temperature (°C)')"
   ]
  },
  {
   "cell_type": "code",
   "execution_count": 73,
   "metadata": {
    "scrolled": true
   },
   "outputs": [
    {
     "data": {
      "image/png": "[encoded data removed]",
      "text/plain": [
       "<Figure size 576x396 with 1 Axes>"
      ]
     },
     "metadata": {},
     "output_type": "display_data"
    }
   ],
   "source": [
    "#Shift avg_temp_sensors\n",
    "_shift_avg_sensor133 = _df_compare133_vent['avg_temp_sensors'] + 5.041314\n",
    "\n",
    "#Plotting shifted axis and box_temp\n",
    "fig, ax = plt.subplots()\n",
    "ax.plot(_df_compare133_vent.index, _shift_avg_sensor133)\n",
    "ax.plot(_df_compare133_vent.index, _df_compare133_vent['box_temp'], '--')\n",
    "ax.legend(loc='best')\n",
    "ax.grid(True)"
   ]
  },
  {
   "cell_type": "code",
   "execution_count": 74,
   "metadata": {},
   "outputs": [
    {
     "data": {
      "text/plain": [
       "0    23.907981\n",
       "1    23.902981\n",
       "2    23.894647\n",
       "3    23.877981\n",
       "4    23.861314\n",
       "Name: avg_temp_sensors, dtype: float64"
      ]
     },
     "execution_count": 74,
     "metadata": {},
     "output_type": "execute_result"
    }
   ],
   "source": [
    "_shift_avg_sensor133.head()"
   ]
  },
  {
   "cell_type": "code",
   "execution_count": 75,
   "metadata": {},
   "outputs": [
    {
     "data": {
      "text/html": [
       "<div>\n",
       "<style scoped>\n",
       "    .dataframe tbody tr th:only-of-type {\n",
       "        vertical-align: middle;\n",
       "    }\n",
       "\n",
       "    .dataframe tbody tr th {\n",
       "        vertical-align: top;\n",
       "    }\n",
       "\n",
       "    .dataframe thead th {\n",
       "        text-align: right;\n",
       "    }\n",
       "</style>\n",
       "<table border=\"1\" class=\"dataframe\">\n",
       "  <thead>\n",
       "    <tr style=\"text-align: right;\">\n",
       "      <th></th>\n",
       "      <th>avg_temp_sensors</th>\n",
       "      <th>box_temp</th>\n",
       "    </tr>\n",
       "  </thead>\n",
       "  <tbody>\n",
       "    <tr>\n",
       "      <th>count</th>\n",
       "      <td>2724.000000</td>\n",
       "      <td>2724.000000</td>\n",
       "    </tr>\n",
       "    <tr>\n",
       "      <th>mean</th>\n",
       "      <td>18.687148</td>\n",
       "      <td>23.728462</td>\n",
       "    </tr>\n",
       "    <tr>\n",
       "      <th>std</th>\n",
       "      <td>0.077216</td>\n",
       "      <td>0.091722</td>\n",
       "    </tr>\n",
       "    <tr>\n",
       "      <th>min</th>\n",
       "      <td>18.520000</td>\n",
       "      <td>23.435000</td>\n",
       "    </tr>\n",
       "    <tr>\n",
       "      <th>25%</th>\n",
       "      <td>18.620000</td>\n",
       "      <td>23.675000</td>\n",
       "    </tr>\n",
       "    <tr>\n",
       "      <th>50%</th>\n",
       "      <td>18.691667</td>\n",
       "      <td>23.730000</td>\n",
       "    </tr>\n",
       "    <tr>\n",
       "      <th>75%</th>\n",
       "      <td>18.740000</td>\n",
       "      <td>23.790000</td>\n",
       "    </tr>\n",
       "    <tr>\n",
       "      <th>max</th>\n",
       "      <td>18.971667</td>\n",
       "      <td>24.035000</td>\n",
       "    </tr>\n",
       "  </tbody>\n",
       "</table>\n",
       "</div>"
      ],
      "text/plain": [
       "       avg_temp_sensors     box_temp\n",
       "count       2724.000000  2724.000000\n",
       "mean          18.687148    23.728462\n",
       "std            0.077216     0.091722\n",
       "min           18.520000    23.435000\n",
       "25%           18.620000    23.675000\n",
       "50%           18.691667    23.730000\n",
       "75%           18.740000    23.790000\n",
       "max           18.971667    24.035000"
      ]
     },
     "execution_count": 75,
     "metadata": {},
     "output_type": "execute_result"
    }
   ],
   "source": [
    "_df_compare133_vent.describe()"
   ]
  },
  {
   "cell_type": "code",
   "execution_count": 76,
   "metadata": {},
   "outputs": [
    {
     "data": {
      "image/png": "[encoded data removed]",
      "text/latex": [
       "$$5.041313631913848$$"
      ],
      "text/plain": [
       "5.041313631913848"
      ]
     },
     "execution_count": 76,
     "metadata": {},
     "output_type": "execute_result"
    }
   ],
   "source": [
    "#Mean diff\n",
    "abs(_df_compare133_vent['avg_temp_sensors'].mean() - _df_compare133_vent['box_temp'].mean())"
   ]
  },
  {
   "cell_type": "markdown",
   "metadata": {},
   "source": [
    "### Stage 12: SENSOR 134-14 Long-term test - ventilation on electronic - Water flow: 3L/min - nominal temp. air conditioning: 24°C "
   ]
  },
  {
   "cell_type": "code",
   "execution_count": 77,
   "metadata": {},
   "outputs": [],
   "source": [
    "#Import data files\n",
    "_134_longterm_t = pd.read_csv('sensor_13414_air_ON_temp.txt', sep='\\t', header=0)\n",
    "_134_longterm_v = pd.read_csv('sensor_13414_air_ON_volts.txt', sep='\\t', header=0)"
   ]
  },
  {
   "cell_type": "code",
   "execution_count": 78,
   "metadata": {},
   "outputs": [],
   "source": [
    "# Converting volts in temperature    \n",
    "_134_X = general_convert(101, 134, _134_longterm_t)\n",
    "_134_Y = general_convert(102, 134, _134_longterm_t)\n",
    "_134_Z = general_convert(103, 134, _134_longterm_t)\n",
    "_134_box = general_convert(105, 134, _134_longterm_t)"
   ]
  },
  {
   "cell_type": "code",
   "execution_count": 79,
   "metadata": {},
   "outputs": [
    {
     "data": {
      "text/html": [
       "<div>\n",
       "<style scoped>\n",
       "    .dataframe tbody tr th:only-of-type {\n",
       "        vertical-align: middle;\n",
       "    }\n",
       "\n",
       "    .dataframe tbody tr th {\n",
       "        vertical-align: top;\n",
       "    }\n",
       "\n",
       "    .dataframe thead th {\n",
       "        text-align: right;\n",
       "    }\n",
       "</style>\n",
       "<table border=\"1\" class=\"dataframe\">\n",
       "  <thead>\n",
       "    <tr style=\"text-align: right;\">\n",
       "      <th></th>\n",
       "      <th>avg_temp_sensors</th>\n",
       "      <th>box_temp</th>\n",
       "      <th>Time</th>\n",
       "      <th>Date</th>\n",
       "    </tr>\n",
       "  </thead>\n",
       "  <tbody>\n",
       "    <tr>\n",
       "      <th>0</th>\n",
       "      <td>15.900000</td>\n",
       "      <td>23.910</td>\n",
       "      <td>14:06:35</td>\n",
       "      <td>11/02/2019</td>\n",
       "    </tr>\n",
       "    <tr>\n",
       "      <th>1</th>\n",
       "      <td>15.908333</td>\n",
       "      <td>23.900</td>\n",
       "      <td>14:06:45</td>\n",
       "      <td>11/02/2019</td>\n",
       "    </tr>\n",
       "    <tr>\n",
       "      <th>2</th>\n",
       "      <td>15.883333</td>\n",
       "      <td>23.915</td>\n",
       "      <td>14:06:55</td>\n",
       "      <td>11/02/2019</td>\n",
       "    </tr>\n",
       "    <tr>\n",
       "      <th>3</th>\n",
       "      <td>15.878333</td>\n",
       "      <td>23.925</td>\n",
       "      <td>14:07:05</td>\n",
       "      <td>11/02/2019</td>\n",
       "    </tr>\n",
       "    <tr>\n",
       "      <th>4</th>\n",
       "      <td>15.848333</td>\n",
       "      <td>23.930</td>\n",
       "      <td>14:07:15</td>\n",
       "      <td>11/02/2019</td>\n",
       "    </tr>\n",
       "  </tbody>\n",
       "</table>\n",
       "</div>"
      ],
      "text/plain": [
       "   avg_temp_sensors  box_temp      Time        Date\n",
       "0         15.900000    23.910  14:06:35  11/02/2019\n",
       "1         15.908333    23.900  14:06:45  11/02/2019\n",
       "2         15.883333    23.915  14:06:55  11/02/2019\n",
       "3         15.878333    23.925  14:07:05  11/02/2019\n",
       "4         15.848333    23.930  14:07:15  11/02/2019"
      ]
     },
     "execution_count": 79,
     "metadata": {},
     "output_type": "execute_result"
    }
   ],
   "source": [
    "#Catches average values of the sensors\n",
    "_avg_134_temp = avg_values(_134_X, _134_Y, _134_Z)\n",
    "\n",
    "#Creating Data Frame for compare average temperature values of the sensors and box\n",
    "combined = [_avg_134_temp, _134_box]\n",
    "_df_compare134 = pd.concat(combined, axis=1)\n",
    "_df_compare134.columns = ['avg_temp_sensors', 'box_temp']\n",
    "\n",
    "#Add time and date in _df_compare133_long\n",
    "_df_compare134['Time'] = pd.Series(_134_longterm_t['Time'], index=_df_compare134.index)\n",
    "_df_compare134['Date'] = pd.Series(_134_longterm_t['Date'], index=_df_compare134.index)\n",
    "_df_compare134.head()"
   ]
  },
  {
   "cell_type": "code",
   "execution_count": 80,
   "metadata": {},
   "outputs": [
    {
     "data": {
      "image/png": "[encoded data removed]",
      "text/plain": [
       "<Figure size 576x396 with 1 Axes>"
      ]
     },
     "metadata": {},
     "output_type": "display_data"
    }
   ],
   "source": [
    "pl = _df_compare134.plot()"
   ]
  },
  {
   "cell_type": "code",
   "execution_count": 81,
   "metadata": {},
   "outputs": [
    {
     "data": {
      "text/html": [
       "<div>\n",
       "<style scoped>\n",
       "    .dataframe tbody tr th:only-of-type {\n",
       "        vertical-align: middle;\n",
       "    }\n",
       "\n",
       "    .dataframe tbody tr th {\n",
       "        vertical-align: top;\n",
       "    }\n",
       "\n",
       "    .dataframe thead th {\n",
       "        text-align: right;\n",
       "    }\n",
       "</style>\n",
       "<table border=\"1\" class=\"dataframe\">\n",
       "  <thead>\n",
       "    <tr style=\"text-align: right;\">\n",
       "      <th></th>\n",
       "      <th>avg_temp_sensors</th>\n",
       "      <th>box_temp</th>\n",
       "    </tr>\n",
       "  </thead>\n",
       "  <tbody>\n",
       "    <tr>\n",
       "      <th>count</th>\n",
       "      <td>6812.000000</td>\n",
       "      <td>6812.000000</td>\n",
       "    </tr>\n",
       "    <tr>\n",
       "      <th>mean</th>\n",
       "      <td>15.691341</td>\n",
       "      <td>23.911151</td>\n",
       "    </tr>\n",
       "    <tr>\n",
       "      <th>std</th>\n",
       "      <td>0.095441</td>\n",
       "      <td>0.078690</td>\n",
       "    </tr>\n",
       "    <tr>\n",
       "      <th>min</th>\n",
       "      <td>15.478333</td>\n",
       "      <td>23.745000</td>\n",
       "    </tr>\n",
       "    <tr>\n",
       "      <th>25%</th>\n",
       "      <td>15.621667</td>\n",
       "      <td>23.845000</td>\n",
       "    </tr>\n",
       "    <tr>\n",
       "      <th>50%</th>\n",
       "      <td>15.671667</td>\n",
       "      <td>23.905000</td>\n",
       "    </tr>\n",
       "    <tr>\n",
       "      <th>75%</th>\n",
       "      <td>15.771667</td>\n",
       "      <td>23.970000</td>\n",
       "    </tr>\n",
       "    <tr>\n",
       "      <th>max</th>\n",
       "      <td>15.916667</td>\n",
       "      <td>24.160000</td>\n",
       "    </tr>\n",
       "  </tbody>\n",
       "</table>\n",
       "</div>"
      ],
      "text/plain": [
       "       avg_temp_sensors     box_temp\n",
       "count       6812.000000  6812.000000\n",
       "mean          15.691341    23.911151\n",
       "std            0.095441     0.078690\n",
       "min           15.478333    23.745000\n",
       "25%           15.621667    23.845000\n",
       "50%           15.671667    23.905000\n",
       "75%           15.771667    23.970000\n",
       "max           15.916667    24.160000"
      ]
     },
     "execution_count": 81,
     "metadata": {},
     "output_type": "execute_result"
    }
   ],
   "source": [
    "_df_compare134.describe()"
   ]
  },
  {
   "cell_type": "code",
   "execution_count": 82,
   "metadata": {},
   "outputs": [
    {
     "data": {
      "image/png": "[encoded data removed]",
      "text/latex": [
       "$$8.219809894304172$$"
      ],
      "text/plain": [
       "8.219809894304172"
      ]
     },
     "execution_count": 82,
     "metadata": {},
     "output_type": "execute_result"
    }
   ],
   "source": [
    "#Mean diff\n",
    "abs(_df_compare134['avg_temp_sensors'].mean() - _df_compare134['box_temp'].mean())"
   ]
  },
  {
   "cell_type": "code",
   "execution_count": 83,
   "metadata": {},
   "outputs": [
    {
     "data": {
      "image/png": "[encoded data removed]",
      "text/plain": [
       "<Figure size 576x396 with 1 Axes>"
      ]
     },
     "metadata": {},
     "output_type": "display_data"
    }
   ],
   "source": [
    "#Shift avg_temp_sensors\n",
    "_shift_avg_sensor134 = _df_compare134['avg_temp_sensors'] + 8.220\n",
    "\n",
    "#Plotting shifted axis and box_temp\n",
    "fig, ax = plt.subplots()\n",
    "ax.plot(_df_compare134.index, _shift_avg_sensor134)\n",
    "ax.plot(_df_compare134.index, _df_compare134['box_temp'], '--')\n",
    "ax.legend(loc='best')\n",
    "ax.grid(True)"
   ]
  },
  {
   "cell_type": "markdown",
   "metadata": {},
   "source": [
    "### Max - Min box temp values"
   ]
  },
  {
   "cell_type": "code",
   "execution_count": 84,
   "metadata": {},
   "outputs": [
    {
     "data": {
      "image/png": "[encoded data removed]",
      "text/latex": [
       "$$0.415$$"
      ],
      "text/plain": [
       "0.415"
      ]
     },
     "execution_count": 84,
     "metadata": {},
     "output_type": "execute_result"
    }
   ],
   "source": [
    "round(_df_compare134['box_temp'].max() - _df_compare134['box_temp'].min(), 4)"
   ]
  },
  {
   "cell_type": "markdown",
   "metadata": {},
   "source": [
    "### Max - Min average sensors values"
   ]
  },
  {
   "cell_type": "code",
   "execution_count": 85,
   "metadata": {},
   "outputs": [
    {
     "data": {
      "image/png": "[encoded data removed]",
      "text/latex": [
       "$$0.4383$$"
      ],
      "text/plain": [
       "0.4383"
      ]
     },
     "execution_count": 85,
     "metadata": {},
     "output_type": "execute_result"
    }
   ],
   "source": [
    "round(_df_compare134['avg_temp_sensors'].max() - _df_compare134['avg_temp_sensors'].min(), 4)"
   ]
  },
  {
   "cell_type": "code",
   "execution_count": 86,
   "metadata": {},
   "outputs": [
    {
     "data": {
      "image/png": "[encoded data removed]",
      "text/latex": [
       "$$6812$$"
      ],
      "text/plain": [
       "6812"
      ]
     },
     "execution_count": 86,
     "metadata": {},
     "output_type": "execute_result"
    }
   ],
   "source": [
    "len(_df_compare134)"
   ]
  },
  {
   "cell_type": "markdown",
   "metadata": {},
   "source": [
    "## Comparation between sensors 135/133/134"
   ]
  },
  {
   "cell_type": "code",
   "execution_count": 87,
   "metadata": {},
   "outputs": [
    {
     "name": "stdout",
     "output_type": "stream",
     "text": [
      "4451\n",
      "4451\n",
      "4451\n"
     ]
    }
   ],
   "source": [
    "#Box temperature of the 135-14\n",
    "print(_temp_box.__len__())\n",
    "\n",
    "#Box temperature of the 133-14\n",
    "_tb_133_slice = _df_compare133_long['box_temp'][3668:] #same length for both arrays\n",
    "print(_tb_133_slice.__len__())\n",
    "_tb_133_slice.index = pd.Index(np.arange(1,4452))\n",
    "\n",
    "#Box temperature of the 135-14\n",
    "_tb_135_slice = _df_compare134['box_temp'][:4451]\n",
    "print(_tb_135_slice.__len__())\n",
    "\n",
    "lista = [_temp_box, _tb_133_slice, _tb_135_slice]\n",
    "\n",
    "_df_boxes_temps = pd.concat(lista, axis=1)\n",
    "_df_boxes_temps.columns =['box_temp_135', 'box_temp_133', 'box_temp_134']"
   ]
  },
  {
   "cell_type": "code",
   "execution_count": 88,
   "metadata": {
    "scrolled": false
   },
   "outputs": [
    {
     "data": {
      "text/html": [
       "<div>\n",
       "<style scoped>\n",
       "    .dataframe tbody tr th:only-of-type {\n",
       "        vertical-align: middle;\n",
       "    }\n",
       "\n",
       "    .dataframe tbody tr th {\n",
       "        vertical-align: top;\n",
       "    }\n",
       "\n",
       "    .dataframe thead th {\n",
       "        text-align: right;\n",
       "    }\n",
       "</style>\n",
       "<table border=\"1\" class=\"dataframe\">\n",
       "  <thead>\n",
       "    <tr style=\"text-align: right;\">\n",
       "      <th></th>\n",
       "      <th>box_temp_135</th>\n",
       "      <th>box_temp_133</th>\n",
       "      <th>box_temp_134</th>\n",
       "    </tr>\n",
       "  </thead>\n",
       "  <tbody>\n",
       "    <tr>\n",
       "      <th>0</th>\n",
       "      <td>23.040</td>\n",
       "      <td>NaN</td>\n",
       "      <td>23.910</td>\n",
       "    </tr>\n",
       "    <tr>\n",
       "      <th>1</th>\n",
       "      <td>23.035</td>\n",
       "      <td>23.925</td>\n",
       "      <td>23.900</td>\n",
       "    </tr>\n",
       "    <tr>\n",
       "      <th>2</th>\n",
       "      <td>23.030</td>\n",
       "      <td>23.920</td>\n",
       "      <td>23.915</td>\n",
       "    </tr>\n",
       "    <tr>\n",
       "      <th>3</th>\n",
       "      <td>23.030</td>\n",
       "      <td>23.900</td>\n",
       "      <td>23.925</td>\n",
       "    </tr>\n",
       "    <tr>\n",
       "      <th>4</th>\n",
       "      <td>23.030</td>\n",
       "      <td>23.915</td>\n",
       "      <td>23.930</td>\n",
       "    </tr>\n",
       "  </tbody>\n",
       "</table>\n",
       "</div>"
      ],
      "text/plain": [
       "   box_temp_135  box_temp_133  box_temp_134\n",
       "0        23.040           NaN        23.910\n",
       "1        23.035        23.925        23.900\n",
       "2        23.030        23.920        23.915\n",
       "3        23.030        23.900        23.925\n",
       "4        23.030        23.915        23.930"
      ]
     },
     "execution_count": 88,
     "metadata": {},
     "output_type": "execute_result"
    }
   ],
   "source": [
    "_df_boxes_temps.head()"
   ]
  },
  {
   "cell_type": "code",
   "execution_count": 89,
   "metadata": {
    "scrolled": true
   },
   "outputs": [
    {
     "data": {
      "text/plain": [
       "<matplotlib.axes._subplots.AxesSubplot at 0xdc900f0>"
      ]
     },
     "execution_count": 89,
     "metadata": {},
     "output_type": "execute_result"
    },
    {
     "data": {
      "image/png": "[encoded data removed]",
      "text/plain": [
       "<Figure size 576x396 with 1 Axes>"
      ]
     },
     "metadata": {},
     "output_type": "display_data"
    }
   ],
   "source": [
    "_df_boxes_temps.plot()"
   ]
  },
  {
   "cell_type": "code",
   "execution_count": 90,
   "metadata": {
    "scrolled": true
   },
   "outputs": [
    {
     "data": {
      "text/html": [
       "<div>\n",
       "<style scoped>\n",
       "    .dataframe tbody tr th:only-of-type {\n",
       "        vertical-align: middle;\n",
       "    }\n",
       "\n",
       "    .dataframe tbody tr th {\n",
       "        vertical-align: top;\n",
       "    }\n",
       "\n",
       "    .dataframe thead th {\n",
       "        text-align: right;\n",
       "    }\n",
       "</style>\n",
       "<table border=\"1\" class=\"dataframe\">\n",
       "  <thead>\n",
       "    <tr style=\"text-align: right;\">\n",
       "      <th></th>\n",
       "      <th>box_temp_135</th>\n",
       "      <th>box_temp_133</th>\n",
       "      <th>box_temp_134</th>\n",
       "    </tr>\n",
       "  </thead>\n",
       "  <tbody>\n",
       "    <tr>\n",
       "      <th>count</th>\n",
       "      <td>4451.000000</td>\n",
       "      <td>4451.000000</td>\n",
       "      <td>4451.000000</td>\n",
       "    </tr>\n",
       "    <tr>\n",
       "      <th>mean</th>\n",
       "      <td>22.835646</td>\n",
       "      <td>23.685773</td>\n",
       "      <td>23.870531</td>\n",
       "    </tr>\n",
       "    <tr>\n",
       "      <th>std</th>\n",
       "      <td>0.100263</td>\n",
       "      <td>0.187800</td>\n",
       "      <td>0.056492</td>\n",
       "    </tr>\n",
       "    <tr>\n",
       "      <th>min</th>\n",
       "      <td>22.430000</td>\n",
       "      <td>23.150000</td>\n",
       "      <td>23.745000</td>\n",
       "    </tr>\n",
       "    <tr>\n",
       "      <th>25%</th>\n",
       "      <td>22.795000</td>\n",
       "      <td>23.620000</td>\n",
       "      <td>23.830000</td>\n",
       "    </tr>\n",
       "    <tr>\n",
       "      <th>50%</th>\n",
       "      <td>22.850000</td>\n",
       "      <td>23.720000</td>\n",
       "      <td>23.860000</td>\n",
       "    </tr>\n",
       "    <tr>\n",
       "      <th>75%</th>\n",
       "      <td>22.880000</td>\n",
       "      <td>23.815000</td>\n",
       "      <td>23.910000</td>\n",
       "    </tr>\n",
       "    <tr>\n",
       "      <th>max</th>\n",
       "      <td>23.235000</td>\n",
       "      <td>24.085000</td>\n",
       "      <td>24.045000</td>\n",
       "    </tr>\n",
       "  </tbody>\n",
       "</table>\n",
       "</div>"
      ],
      "text/plain": [
       "       box_temp_135  box_temp_133  box_temp_134\n",
       "count   4451.000000   4451.000000   4451.000000\n",
       "mean      22.835646     23.685773     23.870531\n",
       "std        0.100263      0.187800      0.056492\n",
       "min       22.430000     23.150000     23.745000\n",
       "25%       22.795000     23.620000     23.830000\n",
       "50%       22.850000     23.720000     23.860000\n",
       "75%       22.880000     23.815000     23.910000\n",
       "max       23.235000     24.085000     24.045000"
      ]
     },
     "execution_count": 90,
     "metadata": {},
     "output_type": "execute_result"
    }
   ],
   "source": [
    "_df_boxes_temps.describe()"
   ]
  },
  {
   "cell_type": "code",
   "execution_count": 91,
   "metadata": {},
   "outputs": [
    {
     "data": {
      "image/png": "[encoded data removed]",
      "text/latex": [
       "$$-0.8501269377667953$$"
      ],
      "text/plain": [
       "-0.8501269377667953"
      ]
     },
     "execution_count": 91,
     "metadata": {},
     "output_type": "execute_result"
    }
   ],
   "source": [
    "#Mean diff\n",
    "_df_boxes_temps['box_temp_135'].mean() - _df_boxes_temps['box_temp_133'].mean()"
   ]
  },
  {
   "cell_type": "code",
   "execution_count": 92,
   "metadata": {},
   "outputs": [
    {
     "data": {
      "image/png": "[encoded data removed]",
      "text/latex": [
       "$$-0.18475848124016991$$"
      ],
      "text/plain": [
       "-0.18475848124016991"
      ]
     },
     "execution_count": 92,
     "metadata": {},
     "output_type": "execute_result"
    }
   ],
   "source": [
    "_df_boxes_temps['box_temp_133'].mean() - _df_boxes_temps['box_temp_134'].mean()"
   ]
  },
  {
   "cell_type": "code",
   "execution_count": 94,
   "metadata": {},
   "outputs": [
    {
     "data": {
      "image/png": "[encoded data removed]",
      "text/latex": [
       "$$0.3000000000000007$$"
      ],
      "text/plain": [
       "0.3000000000000007"
      ]
     },
     "execution_count": 94,
     "metadata": {},
     "output_type": "execute_result"
    }
   ],
   "source": [
    "#Diff between max e min\n",
    "_df_boxes_temps['box_temp_134'].max() - _df_boxes_temps['box_temp_134'].min()"
   ]
  },
  {
   "cell_type": "code",
   "execution_count": null,
   "metadata": {},
   "outputs": [],
   "source": []
  }
 ],
 "metadata": {
  "kernelspec": {
   "display_name": "Python 3",
   "language": "python",
   "name": "python3"
  },
  "language_info": {
   "codemirror_mode": {
    "name": "ipython",
    "version": 3
   },
   "file_extension": ".py",
   "mimetype": "text/x-python",
   "name": "python",
   "nbconvert_exporter": "python",
   "pygments_lexer": "ipython3",
   "version": "3.6.4"
  }
 },
 "nbformat": 4,
 "nbformat_minor": 2
}
