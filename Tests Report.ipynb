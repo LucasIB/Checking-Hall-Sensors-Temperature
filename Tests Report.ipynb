{
 "cells": [
  {
   "cell_type": "code",
   "execution_count": 1,
   "metadata": {},
   "outputs": [],
   "source": [
    "import numpy as np\n",
    "import pandas as pd\n",
    "import matplotlib.pyplot as plt\n",
    "import matplotlib.style as style\n",
    "from sympy import init_printing\n",
    "%matplotlib inline\n",
    "init_printing()"
   ]
  },
  {
   "cell_type": "code",
   "execution_count": 2,
   "metadata": {},
   "outputs": [],
   "source": [
    "# Modifying the plot style\n",
    "style.use('seaborn')"
   ]
  },
  {
   "cell_type": "markdown",
   "metadata": {},
   "source": [
    "## Part I - Compare sensor models in same conditions of temperature (~24°C)"
   ]
  },
  {
   "cell_type": "code",
   "execution_count": 3,
   "metadata": {},
   "outputs": [],
   "source": [
    "#Import data files for long-term test in air conditioning = 24°C (nominal)\n",
    "\n",
    "#135-14\n",
    "_135_longterm_ON_air = pd.read_csv('sensor_13514_air_ON_temp.txt', sep='\\t', header=0)\n",
    "\n",
    "#133-14\n",
    "_133_longterm_ON_air = pd.read_csv('sensor_13314_air_ON_temp_III.txt', sep='\\t', header=0)\n",
    "\n",
    "#134-14\n",
    "_134_longterm_ON_air = pd.read_csv('sensor_13414_air_ON_temp.txt', sep='\\t', header=0)"
   ]
  },
  {
   "cell_type": "code",
   "execution_count": 4,
   "metadata": {},
   "outputs": [
    {
     "data": {
      "text/html": [
       "<div>\n",
       "<style scoped>\n",
       "    .dataframe tbody tr th:only-of-type {\n",
       "        vertical-align: middle;\n",
       "    }\n",
       "\n",
       "    .dataframe tbody tr th {\n",
       "        vertical-align: top;\n",
       "    }\n",
       "\n",
       "    .dataframe thead th {\n",
       "        text-align: right;\n",
       "    }\n",
       "</style>\n",
       "<table border=\"1\" class=\"dataframe\">\n",
       "  <thead>\n",
       "    <tr style=\"text-align: right;\">\n",
       "      <th></th>\n",
       "      <th>Unnamed: 0</th>\n",
       "      <th>Date</th>\n",
       "      <th>Time</th>\n",
       "      <th>101</th>\n",
       "      <th>102</th>\n",
       "      <th>103</th>\n",
       "      <th>105</th>\n",
       "      <th>201</th>\n",
       "      <th>202</th>\n",
       "      <th>203</th>\n",
       "      <th>204</th>\n",
       "      <th>205</th>\n",
       "      <th>206</th>\n",
       "      <th>207</th>\n",
       "      <th>208</th>\n",
       "      <th>209</th>\n",
       "    </tr>\n",
       "  </thead>\n",
       "  <tbody>\n",
       "    <tr>\n",
       "      <th>0</th>\n",
       "      <td>0</td>\n",
       "      <td>05/02/2019</td>\n",
       "      <td>15:31:04</td>\n",
       "      <td>0.4062</td>\n",
       "      <td>0.4202</td>\n",
       "      <td>0.4006</td>\n",
       "      <td>0.4908</td>\n",
       "      <td>22.001</td>\n",
       "      <td>21.246</td>\n",
       "      <td>23.468</td>\n",
       "      <td>23.313</td>\n",
       "      <td>23.607</td>\n",
       "      <td>23.388</td>\n",
       "      <td>23.355</td>\n",
       "      <td>23.576</td>\n",
       "      <td>23.177</td>\n",
       "    </tr>\n",
       "    <tr>\n",
       "      <th>1</th>\n",
       "      <td>1</td>\n",
       "      <td>05/02/2019</td>\n",
       "      <td>15:31:07</td>\n",
       "      <td>0.4061</td>\n",
       "      <td>0.4203</td>\n",
       "      <td>0.4007</td>\n",
       "      <td>0.4907</td>\n",
       "      <td>22.020</td>\n",
       "      <td>21.280</td>\n",
       "      <td>23.470</td>\n",
       "      <td>23.309</td>\n",
       "      <td>23.606</td>\n",
       "      <td>23.390</td>\n",
       "      <td>23.353</td>\n",
       "      <td>23.575</td>\n",
       "      <td>23.175</td>\n",
       "    </tr>\n",
       "    <tr>\n",
       "      <th>2</th>\n",
       "      <td>2</td>\n",
       "      <td>05/02/2019</td>\n",
       "      <td>15:31:10</td>\n",
       "      <td>0.4060</td>\n",
       "      <td>0.4204</td>\n",
       "      <td>0.4008</td>\n",
       "      <td>0.4906</td>\n",
       "      <td>22.041</td>\n",
       "      <td>21.315</td>\n",
       "      <td>23.466</td>\n",
       "      <td>23.310</td>\n",
       "      <td>23.605</td>\n",
       "      <td>23.386</td>\n",
       "      <td>23.351</td>\n",
       "      <td>23.577</td>\n",
       "      <td>23.169</td>\n",
       "    </tr>\n",
       "  </tbody>\n",
       "</table>\n",
       "</div>"
      ],
      "text/plain": [
       "   Unnamed: 0        Date      Time     101     102     103     105     201  \\\n",
       "0           0  05/02/2019  15:31:04  0.4062  0.4202  0.4006  0.4908  22.001   \n",
       "1           1  05/02/2019  15:31:07  0.4061  0.4203  0.4007  0.4907  22.020   \n",
       "2           2  05/02/2019  15:31:10  0.4060  0.4204  0.4008  0.4906  22.041   \n",
       "\n",
       "      202     203     204     205     206     207     208     209  \n",
       "0  21.246  23.468  23.313  23.607  23.388  23.355  23.576  23.177  \n",
       "1  21.280  23.470  23.309  23.606  23.390  23.353  23.575  23.175  \n",
       "2  21.315  23.466  23.310  23.605  23.386  23.351  23.577  23.169  "
      ]
     },
     "execution_count": 4,
     "metadata": {},
     "output_type": "execute_result"
    }
   ],
   "source": [
    "_135_longterm_ON_air.head(3)"
   ]
  },
  {
   "cell_type": "code",
   "execution_count": 5,
   "metadata": {},
   "outputs": [
    {
     "data": {
      "text/html": [
       "<div>\n",
       "<style scoped>\n",
       "    .dataframe tbody tr th:only-of-type {\n",
       "        vertical-align: middle;\n",
       "    }\n",
       "\n",
       "    .dataframe tbody tr th {\n",
       "        vertical-align: top;\n",
       "    }\n",
       "\n",
       "    .dataframe thead th {\n",
       "        text-align: right;\n",
       "    }\n",
       "</style>\n",
       "<table border=\"1\" class=\"dataframe\">\n",
       "  <thead>\n",
       "    <tr style=\"text-align: right;\">\n",
       "      <th></th>\n",
       "      <th>Unnamed: 0</th>\n",
       "      <th>Date</th>\n",
       "      <th>Time</th>\n",
       "      <th>101</th>\n",
       "      <th>102</th>\n",
       "      <th>103</th>\n",
       "      <th>105</th>\n",
       "      <th>201</th>\n",
       "      <th>202</th>\n",
       "      <th>203</th>\n",
       "      <th>204</th>\n",
       "      <th>205</th>\n",
       "      <th>206</th>\n",
       "      <th>207</th>\n",
       "      <th>208</th>\n",
       "      <th>209</th>\n",
       "    </tr>\n",
       "  </thead>\n",
       "  <tbody>\n",
       "    <tr>\n",
       "      <th>0</th>\n",
       "      <td>0</td>\n",
       "      <td>08/02/2019</td>\n",
       "      <td>08:56:10</td>\n",
       "      <td>0.4473</td>\n",
       "      <td>0.4520</td>\n",
       "      <td>0.4627</td>\n",
       "      <td>0.5010</td>\n",
       "      <td>22.674</td>\n",
       "      <td>22.199</td>\n",
       "      <td>22.464</td>\n",
       "      <td>22.222</td>\n",
       "      <td>22.509</td>\n",
       "      <td>22.312</td>\n",
       "      <td>22.322</td>\n",
       "      <td>23.531</td>\n",
       "      <td>22.249</td>\n",
       "    </tr>\n",
       "    <tr>\n",
       "      <th>1</th>\n",
       "      <td>1</td>\n",
       "      <td>08/02/2019</td>\n",
       "      <td>08:56:20</td>\n",
       "      <td>0.4473</td>\n",
       "      <td>0.4520</td>\n",
       "      <td>0.4624</td>\n",
       "      <td>0.5014</td>\n",
       "      <td>22.684</td>\n",
       "      <td>22.214</td>\n",
       "      <td>22.464</td>\n",
       "      <td>22.216</td>\n",
       "      <td>22.513</td>\n",
       "      <td>22.311</td>\n",
       "      <td>22.316</td>\n",
       "      <td>23.533</td>\n",
       "      <td>22.253</td>\n",
       "    </tr>\n",
       "    <tr>\n",
       "      <th>2</th>\n",
       "      <td>2</td>\n",
       "      <td>08/02/2019</td>\n",
       "      <td>08:56:30</td>\n",
       "      <td>0.4472</td>\n",
       "      <td>0.4519</td>\n",
       "      <td>0.4621</td>\n",
       "      <td>0.5014</td>\n",
       "      <td>22.674</td>\n",
       "      <td>22.231</td>\n",
       "      <td>22.465</td>\n",
       "      <td>22.216</td>\n",
       "      <td>22.512</td>\n",
       "      <td>22.311</td>\n",
       "      <td>22.318</td>\n",
       "      <td>23.530</td>\n",
       "      <td>22.248</td>\n",
       "    </tr>\n",
       "  </tbody>\n",
       "</table>\n",
       "</div>"
      ],
      "text/plain": [
       "   Unnamed: 0        Date      Time     101     102     103     105     201  \\\n",
       "0           0  08/02/2019  08:56:10  0.4473  0.4520  0.4627  0.5010  22.674   \n",
       "1           1  08/02/2019  08:56:20  0.4473  0.4520  0.4624  0.5014  22.684   \n",
       "2           2  08/02/2019  08:56:30  0.4472  0.4519  0.4621  0.5014  22.674   \n",
       "\n",
       "      202     203     204     205     206     207     208     209  \n",
       "0  22.199  22.464  22.222  22.509  22.312  22.322  23.531  22.249  \n",
       "1  22.214  22.464  22.216  22.513  22.311  22.316  23.533  22.253  \n",
       "2  22.231  22.465  22.216  22.512  22.311  22.318  23.530  22.248  "
      ]
     },
     "execution_count": 5,
     "metadata": {},
     "output_type": "execute_result"
    }
   ],
   "source": [
    "_133_longterm_ON_air.head(3)"
   ]
  },
  {
   "cell_type": "code",
   "execution_count": 6,
   "metadata": {},
   "outputs": [
    {
     "data": {
      "text/html": [
       "<div>\n",
       "<style scoped>\n",
       "    .dataframe tbody tr th:only-of-type {\n",
       "        vertical-align: middle;\n",
       "    }\n",
       "\n",
       "    .dataframe tbody tr th {\n",
       "        vertical-align: top;\n",
       "    }\n",
       "\n",
       "    .dataframe thead th {\n",
       "        text-align: right;\n",
       "    }\n",
       "</style>\n",
       "<table border=\"1\" class=\"dataframe\">\n",
       "  <thead>\n",
       "    <tr style=\"text-align: right;\">\n",
       "      <th></th>\n",
       "      <th>Unnamed: 0</th>\n",
       "      <th>Date</th>\n",
       "      <th>Time</th>\n",
       "      <th>101</th>\n",
       "      <th>102</th>\n",
       "      <th>103</th>\n",
       "      <th>105</th>\n",
       "      <th>201</th>\n",
       "      <th>202</th>\n",
       "      <th>203</th>\n",
       "      <th>204</th>\n",
       "      <th>205</th>\n",
       "      <th>206</th>\n",
       "      <th>207</th>\n",
       "      <th>208</th>\n",
       "      <th>209</th>\n",
       "    </tr>\n",
       "  </thead>\n",
       "  <tbody>\n",
       "    <tr>\n",
       "      <th>0</th>\n",
       "      <td>0</td>\n",
       "      <td>11/02/2019</td>\n",
       "      <td>14:06:35</td>\n",
       "      <td>0.3961</td>\n",
       "      <td>0.4048</td>\n",
       "      <td>0.3831</td>\n",
       "      <td>0.5082</td>\n",
       "      <td>21.493</td>\n",
       "      <td>20.433</td>\n",
       "      <td>22.308</td>\n",
       "      <td>21.926</td>\n",
       "      <td>22.280</td>\n",
       "      <td>22.077</td>\n",
       "      <td>22.048</td>\n",
       "      <td>23.357</td>\n",
       "      <td>21.949</td>\n",
       "    </tr>\n",
       "    <tr>\n",
       "      <th>1</th>\n",
       "      <td>1</td>\n",
       "      <td>11/02/2019</td>\n",
       "      <td>14:06:45</td>\n",
       "      <td>0.3963</td>\n",
       "      <td>0.4048</td>\n",
       "      <td>0.3834</td>\n",
       "      <td>0.5080</td>\n",
       "      <td>21.487</td>\n",
       "      <td>20.523</td>\n",
       "      <td>22.312</td>\n",
       "      <td>21.923</td>\n",
       "      <td>22.277</td>\n",
       "      <td>22.074</td>\n",
       "      <td>22.044</td>\n",
       "      <td>23.353</td>\n",
       "      <td>21.944</td>\n",
       "    </tr>\n",
       "    <tr>\n",
       "      <th>2</th>\n",
       "      <td>2</td>\n",
       "      <td>11/02/2019</td>\n",
       "      <td>14:06:55</td>\n",
       "      <td>0.3961</td>\n",
       "      <td>0.4041</td>\n",
       "      <td>0.3828</td>\n",
       "      <td>0.5083</td>\n",
       "      <td>21.501</td>\n",
       "      <td>20.628</td>\n",
       "      <td>22.309</td>\n",
       "      <td>21.923</td>\n",
       "      <td>22.275</td>\n",
       "      <td>22.074</td>\n",
       "      <td>22.044</td>\n",
       "      <td>23.360</td>\n",
       "      <td>21.942</td>\n",
       "    </tr>\n",
       "  </tbody>\n",
       "</table>\n",
       "</div>"
      ],
      "text/plain": [
       "   Unnamed: 0        Date      Time     101     102     103     105     201  \\\n",
       "0           0  11/02/2019  14:06:35  0.3961  0.4048  0.3831  0.5082  21.493   \n",
       "1           1  11/02/2019  14:06:45  0.3963  0.4048  0.3834  0.5080  21.487   \n",
       "2           2  11/02/2019  14:06:55  0.3961  0.4041  0.3828  0.5083  21.501   \n",
       "\n",
       "      202     203     204     205     206     207     208     209  \n",
       "0  20.433  22.308  21.926  22.280  22.077  22.048  23.357  21.949  \n",
       "1  20.523  22.312  21.923  22.277  22.074  22.044  23.353  21.944  \n",
       "2  20.628  22.309  21.923  22.275  22.074  22.044  23.360  21.942  "
      ]
     },
     "execution_count": 6,
     "metadata": {},
     "output_type": "execute_result"
    }
   ],
   "source": [
    "_134_longterm_ON_air.head(3)"
   ]
  },
  {
   "cell_type": "code",
   "execution_count": 7,
   "metadata": {},
   "outputs": [],
   "source": [
    "#Sensors temperature parameters for X, Y, Z axis\n",
    "_dict_sensors = {'101': [0.05, 0.09, 0.03],\n",
    "                 '102': [0.05, 0.09, 0.03],\n",
    "                 '103': [0.02, 0.05, 0.03],\n",
    "                 '105': [0.03, 0.03, 0]}\n",
    "\n",
    "def general_convert(number, sensor, data):\n",
    "    '''Returns volts to temperature conversion'''\n",
    "    number = str(number)\n",
    "    _converte = pd.Series()\n",
    "    if sensor == 135:\n",
    "        if number in _dict_sensors:\n",
    "            _converte = (abs(data[number]-_dict_sensors[number][0])/0.02)\n",
    "            return _converte\n",
    "        else:\n",
    "            return False\n",
    "    elif sensor == 133:\n",
    "        if number in _dict_sensors:\n",
    "            _converte = (abs(data[number]-_dict_sensors[number][1])/0.02)\n",
    "            return _converte\n",
    "        else:\n",
    "            return False\n",
    "    elif sensor == 134:\n",
    "        if number in _dict_sensors:\n",
    "            _converte = (abs(data[number]-_dict_sensors[number][1])/0.02)\n",
    "            return _converte\n",
    "        else:\n",
    "            return False\n",
    "    else:\n",
    "        return False"
   ]
  },
  {
   "cell_type": "code",
   "execution_count": 8,
   "metadata": {},
   "outputs": [],
   "source": [
    "#Catches axis values from sensor 135-14\n",
    "_temp135_airON_X = general_convert(101, 135, _135_longterm_ON_air) #axis, sensor, DataFrame\n",
    "_temp135_airON_Y = general_convert(102, 135, _135_longterm_ON_air)\n",
    "_temp135_airON_Z = general_convert(103, 135, _135_longterm_ON_air)\n",
    "_temp135_airON_box = general_convert(105, 135, _135_longterm_ON_air)\n",
    "\n",
    "#Catches axis values from sensor 133-14\n",
    "_temp133_airON_X = general_convert(101, 133, _133_longterm_ON_air) #axis, sensor, DataFrame\n",
    "_temp133_airON_Y = general_convert(102, 133, _133_longterm_ON_air)\n",
    "_temp133_airON_Z = general_convert(103, 133, _133_longterm_ON_air)\n",
    "_temp133_airON_box = general_convert(105, 133, _133_longterm_ON_air)\n",
    "\n",
    "#Catches axis values from sensor 134-14\n",
    "_temp134_airON_X = general_convert(101, 134, _134_longterm_ON_air) #axis, sensor, DataFrame\n",
    "_temp134_airON_Y = general_convert(102, 134, _134_longterm_ON_air)\n",
    "_temp134_airON_Z = general_convert(103, 134, _134_longterm_ON_air)\n",
    "_temp134_airON_box = general_convert(105, 134, _134_longterm_ON_air)"
   ]
  },
  {
   "cell_type": "code",
   "execution_count": 9,
   "metadata": {},
   "outputs": [],
   "source": [
    "#Mean value of X,Y,Z sensors\n",
    "def avg_values(x, y, z):\n",
    "    '''Returns average values of the sensors X, Y, Z'''\n",
    "    _avg_values = pd.Series()\n",
    "    _avg_values = ((x + y + z)/3)\n",
    "    return _avg_values"
   ]
  },
  {
   "cell_type": "code",
   "execution_count": 10,
   "metadata": {},
   "outputs": [],
   "source": [
    "#Catches average temperature values of 135-14\n",
    "_135_avg_temp_airON = avg_values(_temp135_airON_X, _temp135_airON_Y, _temp135_airON_Z)\n",
    "\n",
    "#Catches average temperature values of 133-14\n",
    "_133_avg_temp_airON = avg_values(_temp133_airON_X, _temp133_airON_Y, _temp133_airON_Z)\n",
    "\n",
    "#Catches average temperature values of 134-14\n",
    "_134_avg_temp_airON = avg_values(_temp134_airON_X, _temp134_airON_Y, _temp134_airON_Z)"
   ]
  },
  {
   "cell_type": "code",
   "execution_count": 11,
   "metadata": {},
   "outputs": [],
   "source": [
    "#Comparing the average temperature values of the sensors and your boxes\n",
    "_list_135 = [_135_avg_temp_airON[2000:], _temp135_airON_box[2000:]]\n",
    "#_list_133 = [_133_avg_temp_airON[3668:], _temp133_airON_box[3668:]] #slicing the matrix to leave it with the same size\n",
    "_list_133 = [_133_avg_temp_airON, _temp133_airON_box]\n",
    "_list_134 = [_134_avg_temp_airON, _temp134_airON_box]\n",
    "\n",
    "#Creating DataFrames with averages and box temperature comparison\n",
    "_df_compare_135_airON = pd.concat(_list_135, axis=1)\n",
    "_df_compare_135_airON.columns = ['135_avg_temp_', '135_box_temp']\n",
    "\n",
    "_df_compare_133_airON = pd.concat(_list_133, axis=1)\n",
    "_df_compare_133_airON.columns = ['133_avg_temp_', '133_box_temp']\n",
    "\n",
    "_df_compare_134_airON = pd.concat(_list_134, axis=1)\n",
    "_df_compare_134_airON.columns = ['134_avg_temp_', '134_box_temp']"
   ]
  },
  {
   "cell_type": "code",
   "execution_count": 12,
   "metadata": {},
   "outputs": [],
   "source": [
    "#Catches the room temperatures\n",
    "_135_room_airON = _135_longterm_ON_air['208']\n",
    "_133_room_airON = _133_longterm_ON_air['208']\n",
    "_134_room_airON = _134_longterm_ON_air['208']\n",
    "\n",
    "#Adding the room temperature vector in DataFrame\n",
    "_df_compare_135_airON['room'] = pd.Series(_135_room_airON, index = _df_compare_135_airON.index)\n",
    "_df_compare_133_airON['room'] = pd.Series(_133_room_airON, index = _df_compare_133_airON.index)\n",
    "_df_compare_134_airON['room'] = pd.Series(_134_room_airON, index = _df_compare_134_airON.index)"
   ]
  },
  {
   "cell_type": "markdown",
   "metadata": {},
   "source": [
    "### Graph of temperatures average values of the 135-14 and Electronic Bastidor"
   ]
  },
  {
   "cell_type": "code",
   "execution_count": 13,
   "metadata": {
    "scrolled": false
   },
   "outputs": [
    {
     "data": {
      "text/plain": [
       "<matplotlib.axes._subplots.AxesSubplot at 0x13c019d0>"
      ]
     },
     "execution_count": 13,
     "metadata": {},
     "output_type": "execute_result"
    },
    {
     "data": {
      "image/png": "[encoded data removed]",
      "text/plain": [
       "<matplotlib.figure.Figure at 0x13b3bcd0>"
      ]
     },
     "metadata": {},
     "output_type": "display_data"
    }
   ],
   "source": [
    "_df_compare_135_airON.plot()"
   ]
  },
  {
   "cell_type": "markdown",
   "metadata": {},
   "source": [
    "### Graph of temperatures average values of the 133-14 and Electronic Bastidor"
   ]
  },
  {
   "cell_type": "code",
   "execution_count": 14,
   "metadata": {},
   "outputs": [
    {
     "data": {
      "text/plain": [
       "<matplotlib.axes._subplots.AxesSubplot at 0x13ca08f0>"
      ]
     },
     "execution_count": 14,
     "metadata": {},
     "output_type": "execute_result"
    },
    {
     "data": {
      "image/png": "[encoded data removed]",
      "text/plain": [
       "<matplotlib.figure.Figure at 0x13c84630>"
      ]
     },
     "metadata": {},
     "output_type": "display_data"
    }
   ],
   "source": [
    "_df_compare_133_airON.plot()"
   ]
  },
  {
   "cell_type": "markdown",
   "metadata": {},
   "source": [
    "### Graph of temperatures average values of the 134-14 and Electronic Bastidor"
   ]
  },
  {
   "cell_type": "code",
   "execution_count": 15,
   "metadata": {},
   "outputs": [
    {
     "data": {
      "text/plain": [
       "<matplotlib.axes._subplots.AxesSubplot at 0x13ce4590>"
      ]
     },
     "execution_count": 15,
     "metadata": {},
     "output_type": "execute_result"
    },
    {
     "data": {
      "image/png": "[encoded data removed]",
      "text/plain": [
       "<matplotlib.figure.Figure at 0x13d09970>"
      ]
     },
     "metadata": {},
     "output_type": "display_data"
    }
   ],
   "source": [
    "_df_compare_134_airON.plot()"
   ]
  },
  {
   "cell_type": "code",
   "execution_count": 16,
   "metadata": {},
   "outputs": [],
   "source": [
    "#Creating overview data from describe table of the sensors\n",
    "_135_overview_airON = _df_compare_135_airON.describe()\n",
    "_135_overview_airON.drop(['count', '25%', '50%', '75%'], inplace=True)\n",
    "_135_overview_airON.columns = ['135 sensor', '135 Box', '135 Room']\n",
    "\n",
    "_133_overview_airON = _df_compare_133_airON.describe()\n",
    "_133_overview_airON.drop(['count', '25%', '50%', '75%'], inplace=True)\n",
    "_133_overview_airON.columns = ['133 sensor', '133 Box', '133 Room']\n",
    "\n",
    "_134_overview_airON = _df_compare_134_airON.describe()\n",
    "_134_overview_airON.drop(['count', '25%', '50%', '75%'], inplace=True)\n",
    "_134_overview_airON.columns = ['134 sensor', '134 Box', '134 Room']"
   ]
  },
  {
   "cell_type": "code",
   "execution_count": 17,
   "metadata": {},
   "outputs": [
    {
     "data": {
      "text/html": [
       "<div>\n",
       "<style scoped>\n",
       "    .dataframe tbody tr th:only-of-type {\n",
       "        vertical-align: middle;\n",
       "    }\n",
       "\n",
       "    .dataframe tbody tr th {\n",
       "        vertical-align: top;\n",
       "    }\n",
       "\n",
       "    .dataframe thead th {\n",
       "        text-align: right;\n",
       "    }\n",
       "</style>\n",
       "<table border=\"1\" class=\"dataframe\">\n",
       "  <thead>\n",
       "    <tr style=\"text-align: right;\">\n",
       "      <th></th>\n",
       "      <th>135 sensor</th>\n",
       "      <th>135 Box</th>\n",
       "      <th>135 Room</th>\n",
       "      <th>133 sensor</th>\n",
       "      <th>133 Box</th>\n",
       "      <th>133 Room</th>\n",
       "      <th>134 sensor</th>\n",
       "      <th>134 Box</th>\n",
       "      <th>134 Room</th>\n",
       "    </tr>\n",
       "  </thead>\n",
       "  <tbody>\n",
       "    <tr>\n",
       "      <th>mean</th>\n",
       "      <td>18.034</td>\n",
       "      <td>22.813</td>\n",
       "      <td>23.313</td>\n",
       "      <td>18.687</td>\n",
       "      <td>23.728</td>\n",
       "      <td>23.391</td>\n",
       "      <td>15.691</td>\n",
       "      <td>23.911</td>\n",
       "      <td>23.217</td>\n",
       "    </tr>\n",
       "    <tr>\n",
       "      <th>std</th>\n",
       "      <td>0.054</td>\n",
       "      <td>0.122</td>\n",
       "      <td>0.108</td>\n",
       "      <td>0.077</td>\n",
       "      <td>0.092</td>\n",
       "      <td>0.111</td>\n",
       "      <td>0.095</td>\n",
       "      <td>0.079</td>\n",
       "      <td>0.103</td>\n",
       "    </tr>\n",
       "    <tr>\n",
       "      <th>min</th>\n",
       "      <td>17.885</td>\n",
       "      <td>22.430</td>\n",
       "      <td>22.942</td>\n",
       "      <td>18.520</td>\n",
       "      <td>23.435</td>\n",
       "      <td>22.975</td>\n",
       "      <td>15.478</td>\n",
       "      <td>23.745</td>\n",
       "      <td>22.967</td>\n",
       "    </tr>\n",
       "    <tr>\n",
       "      <th>max</th>\n",
       "      <td>18.185</td>\n",
       "      <td>23.235</td>\n",
       "      <td>23.545</td>\n",
       "      <td>18.972</td>\n",
       "      <td>24.035</td>\n",
       "      <td>23.578</td>\n",
       "      <td>15.917</td>\n",
       "      <td>24.160</td>\n",
       "      <td>23.482</td>\n",
       "    </tr>\n",
       "  </tbody>\n",
       "</table>\n",
       "</div>"
      ],
      "text/plain": [
       "      135 sensor  135 Box  135 Room  133 sensor  133 Box  133 Room  \\\n",
       "mean      18.034   22.813    23.313      18.687   23.728    23.391   \n",
       "std        0.054    0.122     0.108       0.077    0.092     0.111   \n",
       "min       17.885   22.430    22.942      18.520   23.435    22.975   \n",
       "max       18.185   23.235    23.545      18.972   24.035    23.578   \n",
       "\n",
       "      134 sensor  134 Box  134 Room  \n",
       "mean      15.691   23.911    23.217  \n",
       "std        0.095    0.079     0.103  \n",
       "min       15.478   23.745    22.967  \n",
       "max       15.917   24.160    23.482  "
      ]
     },
     "execution_count": 17,
     "metadata": {},
     "output_type": "execute_result"
    }
   ],
   "source": [
    "#Unique list of table\n",
    "_list_overviews = [_135_overview_airON, _133_overview_airON, _134_overview_airON]\n",
    "\n",
    "#Creating summary table of sensors air ON describes\n",
    "_df_overall_airON_desc = pd.concat(_list_overviews, axis=1)\n",
    "\n",
    "#_df_overall_airON_desc['unit'] = ['°C']*len(_df_overall_airON_desc)\n",
    "_df_overall_airON_desc = _df_overall_airON_desc.round(3)\n",
    "_df_overall_airON_desc"
   ]
  },
  {
   "cell_type": "code",
   "execution_count": 18,
   "metadata": {},
   "outputs": [],
   "source": [
    "## Table of differences\n",
    "def diff_maxmin(df):\n",
    "    val = df.iloc[3]-df.iloc[2]\n",
    "    return val.values"
   ]
  },
  {
   "cell_type": "code",
   "execution_count": 19,
   "metadata": {},
   "outputs": [
    {
     "data": {
      "text/html": [
       "<div>\n",
       "<style scoped>\n",
       "    .dataframe tbody tr th:only-of-type {\n",
       "        vertical-align: middle;\n",
       "    }\n",
       "\n",
       "    .dataframe tbody tr th {\n",
       "        vertical-align: top;\n",
       "    }\n",
       "\n",
       "    .dataframe thead th {\n",
       "        text-align: right;\n",
       "    }\n",
       "</style>\n",
       "<table border=\"1\" class=\"dataframe\">\n",
       "  <thead>\n",
       "    <tr style=\"text-align: right;\">\n",
       "      <th></th>\n",
       "      <th>135 sensor</th>\n",
       "      <th>135 Box</th>\n",
       "      <th>135 Room</th>\n",
       "      <th>133 sensor</th>\n",
       "      <th>133 Box</th>\n",
       "      <th>133 Room</th>\n",
       "      <th>134 sensor</th>\n",
       "      <th>134 Box</th>\n",
       "      <th>134 Room</th>\n",
       "    </tr>\n",
       "  </thead>\n",
       "  <tbody>\n",
       "    <tr>\n",
       "      <th>mean</th>\n",
       "      <td>18.034</td>\n",
       "      <td>22.813</td>\n",
       "      <td>23.313</td>\n",
       "      <td>18.687</td>\n",
       "      <td>23.728</td>\n",
       "      <td>23.391</td>\n",
       "      <td>15.691</td>\n",
       "      <td>23.911</td>\n",
       "      <td>23.217</td>\n",
       "    </tr>\n",
       "    <tr>\n",
       "      <th>std</th>\n",
       "      <td>0.054</td>\n",
       "      <td>0.122</td>\n",
       "      <td>0.108</td>\n",
       "      <td>0.077</td>\n",
       "      <td>0.092</td>\n",
       "      <td>0.111</td>\n",
       "      <td>0.095</td>\n",
       "      <td>0.079</td>\n",
       "      <td>0.103</td>\n",
       "    </tr>\n",
       "    <tr>\n",
       "      <th>min</th>\n",
       "      <td>17.885</td>\n",
       "      <td>22.430</td>\n",
       "      <td>22.942</td>\n",
       "      <td>18.520</td>\n",
       "      <td>23.435</td>\n",
       "      <td>22.975</td>\n",
       "      <td>15.478</td>\n",
       "      <td>23.745</td>\n",
       "      <td>22.967</td>\n",
       "    </tr>\n",
       "    <tr>\n",
       "      <th>max</th>\n",
       "      <td>18.185</td>\n",
       "      <td>23.235</td>\n",
       "      <td>23.545</td>\n",
       "      <td>18.972</td>\n",
       "      <td>24.035</td>\n",
       "      <td>23.578</td>\n",
       "      <td>15.917</td>\n",
       "      <td>24.160</td>\n",
       "      <td>23.482</td>\n",
       "    </tr>\n",
       "    <tr>\n",
       "      <th>diff</th>\n",
       "      <td>0.300</td>\n",
       "      <td>0.805</td>\n",
       "      <td>0.603</td>\n",
       "      <td>0.452</td>\n",
       "      <td>0.600</td>\n",
       "      <td>0.603</td>\n",
       "      <td>0.439</td>\n",
       "      <td>0.415</td>\n",
       "      <td>0.515</td>\n",
       "    </tr>\n",
       "  </tbody>\n",
       "</table>\n",
       "</div>"
      ],
      "text/plain": [
       "      135 sensor  135 Box  135 Room  133 sensor  133 Box  133 Room  \\\n",
       "mean      18.034   22.813    23.313      18.687   23.728    23.391   \n",
       "std        0.054    0.122     0.108       0.077    0.092     0.111   \n",
       "min       17.885   22.430    22.942      18.520   23.435    22.975   \n",
       "max       18.185   23.235    23.545      18.972   24.035    23.578   \n",
       "diff       0.300    0.805     0.603       0.452    0.600     0.603   \n",
       "\n",
       "      134 sensor  134 Box  134 Room  \n",
       "mean      15.691   23.911    23.217  \n",
       "std        0.095    0.079     0.103  \n",
       "min       15.478   23.745    22.967  \n",
       "max       15.917   24.160    23.482  \n",
       "diff       0.439    0.415     0.515  "
      ]
     },
     "execution_count": 19,
     "metadata": {},
     "output_type": "execute_result"
    }
   ],
   "source": [
    "_val = diff_maxmin(_df_overall_airON_desc)\n",
    "_diff = pd.DataFrame([_val], columns=_df_overall_airON_desc.columns)\n",
    "\n",
    "#Applying the diff rows in overall DF\n",
    "_df_overall_airON_desc = _df_overall_airON_desc.append(_diff, ignore_index=True)\n",
    "_df_overall_airON_desc.index = ['mean', 'std', 'min', 'max', 'diff']\n",
    "_df_overall_airON_desc"
   ]
  },
  {
   "cell_type": "code",
   "execution_count": null,
   "metadata": {},
   "outputs": [],
   "source": []
  }
 ],
 "metadata": {
  "kernelspec": {
   "display_name": "Python 3",
   "language": "python",
   "name": "python3"
  },
  "language_info": {
   "codemirror_mode": {
    "name": "ipython",
    "version": 3
   },
   "file_extension": ".py",
   "mimetype": "text/x-python",
   "name": "python",
   "nbconvert_exporter": "python",
   "pygments_lexer": "ipython3",
   "version": "3.6.4"
  }
 },
 "nbformat": 4,
 "nbformat_minor": 2
}
